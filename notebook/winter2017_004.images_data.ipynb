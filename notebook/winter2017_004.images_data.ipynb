{
 "cells": [
  {
   "cell_type": "markdown",
   "metadata": {},
   "source": [
    "### Image data\n",
    "The goal of this notebook is to detail how to interact with the images associated to the set of ads provided for the CP1 during the MEMEX Winter QPR 2017.\n",
    "\n",
    "### Data to download\n",
    "- Training images:\n",
    "- Training images info:\n",
    "- Test images:\n",
    "- Test images info:\n",
    "\n",
    "Plus the data available on the Wiki\n",
    "\n",
    "### Info files\n",
    "1. adjusted_images.json\n",
    "2. image_url_sha1.csv\n",
    "3. faces.jl\n",
    "4. images_faces_stats.jl\n",
    "\n",
    "### Outputs\n",
    "1. image_documents.jl   \n",
    "These are the children documents (images) related to all of the ads int the input.    \n",
    "2. image_url_to_valid_sha1.csv\n",
    "This is a mapping of the URLs images to their SHA1, the images in this file have been downloaded and their SHA1 computed properly."
   ]
  },
  {
   "cell_type": "code",
   "execution_count": 4,
   "metadata": {
    "collapsed": true
   },
   "outputs": [],
   "source": [
    "import os\n",
    "import csv\n",
    "import json"
   ]
  },
  {
   "cell_type": "code",
   "execution_count": 8,
   "metadata": {
    "collapsed": false
   },
   "outputs": [],
   "source": [
    "# set some parameters\n",
    "data_dir = \"../data\"\n",
    "prefix = \"test\"\n",
    "if prefix==\"train\":\n",
    "    input_file = \"train_adjusted.json\"\n",
    "else:\n",
    "    input_file = \"test_adjusted_unlabelled.json\""
   ]
  },
  {
   "cell_type": "code",
   "execution_count": 9,
   "metadata": {
    "collapsed": false
   },
   "outputs": [],
   "source": [
    "images_dir = os.path.join(data_dir,prefix+\"_images\")\n",
    "url_sha1_file = os.path.join(data_dir,prefix+\"_image_url_sha1.csv\")\n",
    "faces_file = os.path.join(data_dir,prefix+\"_faces.jl\")\n",
    "stats_file = os.path.join(data_dir,prefix+\"_images_faces_stats.jl\")\n",
    "images_file = os.path.join(data_dir,prefix+\"_adjusted_images.json\")"
   ]
  },
  {
   "cell_type": "code",
   "execution_count": 16,
   "metadata": {
    "collapsed": false
   },
   "outputs": [],
   "source": [
    "# parse faces_file\n",
    "def parse_faces(faces_file):\n",
    "    faces_dict = {}\n",
    "    with open(faces_file, \"rt\") as faces:\n",
    "        for line in faces:\n",
    "            one_face_dict = json.loads(line)\n",
    "            img_sha1 = one_face_dict.keys()[0]\n",
    "            nb_faces = len(one_face_dict[img_sha1].keys())\n",
    "            #print nb_faces\n",
    "            faces_dict[img_sha1] = dict()\n",
    "            faces_dict[img_sha1]['count'] = nb_faces\n",
    "            faces_dict[img_sha1]['detections'] = one_face_dict[img_sha1]\n",
    "    return faces_dict"
   ]
  },
  {
   "cell_type": "code",
   "execution_count": 17,
   "metadata": {
    "collapsed": false
   },
   "outputs": [],
   "source": [
    "faces_dict = parse_faces(faces_file)"
   ]
  },
  {
   "cell_type": "code",
   "execution_count": 30,
   "metadata": {
    "collapsed": false
   },
   "outputs": [
    {
     "name": "stdout",
     "output_type": "stream",
     "text": [
      "20401\n",
      "3140d44a1e4f2a84f10265fb03d0472c89681ed0 {'count': 1, 'detections': {u'3140d44a1e4f2a84f10265fb03d0472c89681ed0_160-31-227-122': {u'score': u'0.997924685478', u'bbox': u'160.391361728,31.2674056292,227.213230789,122.488013085'}}}\n"
     ]
    }
   ],
   "source": [
    "print len(faces_dict)\n",
    "i = 3\n",
    "print faces_dict.keys()[i], faces_dict[faces_dict.keys()[i]]"
   ]
  },
  {
   "cell_type": "code",
   "execution_count": 27,
   "metadata": {
    "collapsed": false
   },
   "outputs": [],
   "source": [
    "# parse images_file\n",
    "def parse_images_file(images_file):\n",
    "    ads_images_dict = {}\n",
    "    with open(images_file, \"rt\") as images:\n",
    "        for line in images:\n",
    "            one_image_dict = json.loads(line)\n",
    "            ad_id_list = one_image_dict['obj_parent']\n",
    "            img_url = one_image_dict['obj_stored_url']\n",
    "            if type(ad_id_list) is not list:\n",
    "                ad_id_list = [ad_id_list]\n",
    "            for ad_id in ad_id_list:\n",
    "                if ad_id not in ads_images_dict:\n",
    "                    ads_images_dict[ad_id] = [img_url]\n",
    "                else:\n",
    "                    ads_images_dict[ad_id].append(img_url)\n",
    "    return ads_images_dict"
   ]
  },
  {
   "cell_type": "code",
   "execution_count": 28,
   "metadata": {
    "collapsed": true
   },
   "outputs": [],
   "source": [
    "ads_images_dict = parse_images_file(images_file)"
   ]
  },
  {
   "cell_type": "code",
   "execution_count": 38,
   "metadata": {
    "collapsed": false
   },
   "outputs": [
    {
     "name": "stdout",
     "output_type": "stream",
     "text": [
      "21984\n",
      "28DE96FEE11CB9182D318FC40599E579C69E99D25DB233F64C98F13081DBC018 [u'https://s3.amazonaws.com/roxyimages/e6285c42db6f7332f0e842a4d10d2c1bcaca8d58.jpg', u'https://s3.amazonaws.com/roxyimages/238cb337defb4ae99e2e357d585a0053e5072fcc.jpg', u'https://s3.amazonaws.com/roxyimages/439d654bc365f36daccff602849ba7bb3a608836.jpg', u'https://s3.amazonaws.com/roxyimages/420957839e1eb4a41ec19c283130f633006cbf56.jpg', u'https://s3.amazonaws.com/roxyimages/c86cea7543c8f855dd77c0037e146aef1fd81d1a.jpg', u'https://s3.amazonaws.com/roxyimages/32ebde5b3cabb7773346d41b333c04e0d89ff4e3.jpg', u'https://s3.amazonaws.com/roxyimages/6fea3fe79e0e2eef18a09f0daf9c998e796ce7cd.jpg', u'https://s3.amazonaws.com/roxyimages/5163ef2e476107b4c7a31d22021a6e200bc8c03e.jpg', u'https://s3.amazonaws.com/roxyimages/c9af9f955efce2533ee0df843eaba666aff7cb28.jpg', u'https://s3.amazonaws.com/roxyimages/83845b26e5a25e00dd7c5c7c8894cdddc2493285.jpg']\n"
     ]
    }
   ],
   "source": [
    "print len(ads_images_dict)\n",
    "print ads_images_dict.keys()[0],ads_images_dict[ads_images_dict.keys()[0]]"
   ]
  },
  {
   "cell_type": "code",
   "execution_count": 33,
   "metadata": {
    "collapsed": true
   },
   "outputs": [],
   "source": [
    "# parse image_url_sha1_file\n",
    "def parse_url_sha1_file(url_sha1_file):\n",
    "    url_sha1_dict = {}\n",
    "    with open(url_sha1_file,\"rt\") as img_url_sha1:\n",
    "        for line in img_url_sha1:\n",
    "            url, sha1 = line.split(',')\n",
    "            url_sha1_dict[url] = sha1\n",
    "    return url_sha1_dict"
   ]
  },
  {
   "cell_type": "code",
   "execution_count": 34,
   "metadata": {
    "collapsed": false
   },
   "outputs": [],
   "source": [
    " url_sha1_dict = parse_url_sha1_file(url_sha1_file)"
   ]
  },
  {
   "cell_type": "code",
   "execution_count": 37,
   "metadata": {
    "collapsed": false
   },
   "outputs": [
    {
     "name": "stdout",
     "output_type": "stream",
     "text": [
      "54569\n",
      "https://s3.amazonaws.com/memex-images/full/85d9a4e5f4927f22218f79f496a14757ee8b3413.jpg f912b73662a9a50e42cb5d7726beea69c4ba0b56\n",
      "\n"
     ]
    }
   ],
   "source": [
    "print len(url_sha1_dict)\n",
    "print url_sha1_dict.keys()[0],url_sha1_dict[url_sha1_dict.keys()[0]]"
   ]
  },
  {
   "cell_type": "markdown",
   "metadata": {},
   "source": [
    "### Show images and faces of one ad"
   ]
  },
  {
   "cell_type": "code",
   "execution_count": 1,
   "metadata": {
    "collapsed": true
   },
   "outputs": [],
   "source": [
    "from PIL import Image"
   ]
  },
  {
   "cell_type": "code",
   "execution_count": 43,
   "metadata": {
    "collapsed": true
   },
   "outputs": [],
   "source": [
    "def get_ad_images(ad_id, ads_images_dict, url_sha1_dict):\n",
    "    images_url_list = ads_images_dict[ad_id]\n",
    "    images_sha1s = []\n",
    "    for image_url in images_url_list:\n",
    "        if image_url is None or not image_url:\n",
    "            continue\n",
    "        try:\n",
    "            images_sha1s.append(url_sha1_dict[image_url.strip()].strip())\n",
    "        except:\n",
    "            print 'Cannot find sha1 for: {}.'.format(image_url)\n",
    "    return images_sha1s"
   ]
  },
  {
   "cell_type": "code",
   "execution_count": 44,
   "metadata": {
    "collapsed": true
   },
   "outputs": [],
   "source": [
    "ad_id = \"28DE96FEE11CB9182D318FC40599E579C69E99D25DB233F64C98F13081DBC018\"\n",
    "images_sha1s = get_ad_images(ad_id, ads_images_dict, url_sha1_dict)"
   ]
  },
  {
   "cell_type": "code",
   "execution_count": 45,
   "metadata": {
    "collapsed": false
   },
   "outputs": [
    {
     "name": "stdout",
     "output_type": "stream",
     "text": [
      "['6097a3ecb7b3421562a67b04c77370a02db9b025', '400e47619ed62a93c94c47a979b9c86c89c1c272', 'c0f5bc5c6ca7c1f9350b0bd9a3c9af6785b83127', '3ddd075702acb00dc5a313320c496de4d638fac5', '02a11b6047cea0f2bd634e565d71ada6442e82a3', '0ced961073951ccc415c8e51a90060a275a6628d', 'e6d5a5a0a996d4da18ef7d150766fc8ca9cc4f8e', '402f797ff471f609144aa38019c61c658945dbbf', '08a459d7587f7053c0d843949279d80ee9cb8841', 'c3380eda734c16d4d65381067f6b49475ab899e7']\n"
     ]
    }
   ],
   "source": [
    "print images_sha1s"
   ]
  },
  {
   "cell_type": "code",
   "execution_count": 71,
   "metadata": {
    "collapsed": false
   },
   "outputs": [],
   "source": [
    "def get_faces_images(images_sha1s, faces_dict):\n",
    "    faces_out = {}\n",
    "    for sha1 in images_sha1s:\n",
    "        tmp_faces = faces_dict[sha1]\n",
    "        if tmp_faces['count']==0:\n",
    "            faces_out[sha1] = []\n",
    "            continue\n",
    "        bboxes = []\n",
    "        for face in tmp_faces['detections']:\n",
    "            bbox = [float(x) for x in tmp_faces['detections'][face]['bbox'].split(',')]\n",
    "            bbox.append(float(tmp_faces['detections'][face]['score']))\n",
    "            bboxes.append(bbox)\n",
    "        #print bboxes\n",
    "        faces_out[sha1] = bboxes\n",
    "    return faces_out"
   ]
  },
  {
   "cell_type": "code",
   "execution_count": 76,
   "metadata": {
    "collapsed": false
   },
   "outputs": [],
   "source": [
    "def draw_face_bbox(img, bboxes, width=4):\n",
    "    from PIL import ImageDraw\n",
    "    draw = ImageDraw.Draw(img)\n",
    "    for bbox in bboxes:\n",
    "        for i in range(width):\n",
    "            rect_start = (int(np.round(bbox[0] + width/2 - i)), int(np.round(bbox[1] + width/2 - i)))\n",
    "            rect_end = (int(np.round(bbox[2] - width/2 + i)), int(np.round(bbox[3] - width/2 + i)))\n",
    "            draw.rectangle((rect_start, rect_end), outline=(0, 255, 0))\n",
    "        # print score?\n",
    "        if len(bbox)==5:\n",
    "            draw.text((np.round((bbox[0]+bbox[2])/2),np.round(bbox[1])), str(bbox[4]), fill=(255,255,255,128))\n"
   ]
  },
  {
   "cell_type": "code",
   "execution_count": 77,
   "metadata": {
    "collapsed": true
   },
   "outputs": [],
   "source": [
    "def open_image(sha1, images_dir):\n",
    "    from PIL import Image\n",
    "    img = Image.open(os.path.join(images_dir, sha1[:3], sha1))\n",
    "    return img"
   ]
  },
  {
   "cell_type": "code",
   "execution_count": 79,
   "metadata": {
    "collapsed": false
   },
   "outputs": [
    {
     "name": "stdout",
     "output_type": "stream",
     "text": [
      "{'c3380eda734c16d4d65381067f6b49475ab899e7': [], '400e47619ed62a93c94c47a979b9c86c89c1c272': [], '6097a3ecb7b3421562a67b04c77370a02db9b025': [[347.294961773, 155.247852325, 498.546011746, 370.930160522, 0.844537436962]], '02a11b6047cea0f2bd634e565d71ada6442e82a3': [], 'c0f5bc5c6ca7c1f9350b0bd9a3c9af6785b83127': [], '402f797ff471f609144aa38019c61c658945dbbf': [], '0ced961073951ccc415c8e51a90060a275a6628d': [], '08a459d7587f7053c0d843949279d80ee9cb8841': [], 'e6d5a5a0a996d4da18ef7d150766fc8ca9cc4f8e': [[91.988831386, 463.030171201, 388.110469349, 783.963114321, 0.711548626423]], '3ddd075702acb00dc5a313320c496de4d638fac5': []}\n"
     ]
    }
   ],
   "source": [
    "faces = get_faces_images(images_sha1s, faces_dict)\n",
    "print faces"
   ]
  },
  {
   "cell_type": "code",
   "execution_count": 81,
   "metadata": {
    "collapsed": false
   },
   "outputs": [
    {
     "ename": "IOError",
     "evalue": "[Errno 2] No such file or directory: '../data/test_images/609/6097a3ecb7b3421562a67b04c77370a02db9b025'",
     "output_type": "error",
     "traceback": [
      "\u001b[0;31m---------------------------------------------------------------------------\u001b[0m",
      "\u001b[0;31mIOError\u001b[0m                                   Traceback (most recent call last)",
      "\u001b[0;32m<ipython-input-81-3c4160bb8af4>\u001b[0m in \u001b[0;36m<module>\u001b[0;34m()\u001b[0m\n\u001b[1;32m      1\u001b[0m \u001b[0;32mfor\u001b[0m \u001b[0mface\u001b[0m \u001b[0;32min\u001b[0m \u001b[0mfaces\u001b[0m\u001b[0;34m:\u001b[0m\u001b[0;34m\u001b[0m\u001b[0m\n\u001b[1;32m      2\u001b[0m     \u001b[0;32mif\u001b[0m \u001b[0mfaces\u001b[0m\u001b[0;34m[\u001b[0m\u001b[0mface\u001b[0m\u001b[0;34m]\u001b[0m\u001b[0;34m:\u001b[0m\u001b[0;34m\u001b[0m\u001b[0m\n\u001b[0;32m----> 3\u001b[0;31m         \u001b[0mimg\u001b[0m \u001b[0;34m=\u001b[0m \u001b[0mopen_image\u001b[0m\u001b[0;34m(\u001b[0m\u001b[0mface\u001b[0m\u001b[0;34m,\u001b[0m \u001b[0mimages_dir\u001b[0m\u001b[0;34m)\u001b[0m\u001b[0;34m\u001b[0m\u001b[0m\n\u001b[0m\u001b[1;32m      4\u001b[0m         \u001b[0mdraw_face_bbox\u001b[0m\u001b[0;34m(\u001b[0m\u001b[0mimg\u001b[0m\u001b[0;34m,\u001b[0m \u001b[0mfaces\u001b[0m\u001b[0;34m[\u001b[0m\u001b[0mface\u001b[0m\u001b[0;34m]\u001b[0m\u001b[0;34m)\u001b[0m\u001b[0;34m\u001b[0m\u001b[0m\n\u001b[1;32m      5\u001b[0m         \u001b[0mimg\u001b[0m\u001b[0;34m.\u001b[0m\u001b[0mshow\u001b[0m\u001b[0;34m(\u001b[0m\u001b[0;34m)\u001b[0m\u001b[0;34m\u001b[0m\u001b[0m\n",
      "\u001b[0;32m<ipython-input-77-8aedc1a2ebf8>\u001b[0m in \u001b[0;36mopen_image\u001b[0;34m(sha1, images_dir)\u001b[0m\n\u001b[1;32m      1\u001b[0m \u001b[0;32mdef\u001b[0m \u001b[0mopen_image\u001b[0m\u001b[0;34m(\u001b[0m\u001b[0msha1\u001b[0m\u001b[0;34m,\u001b[0m \u001b[0mimages_dir\u001b[0m\u001b[0;34m)\u001b[0m\u001b[0;34m:\u001b[0m\u001b[0;34m\u001b[0m\u001b[0m\n\u001b[1;32m      2\u001b[0m     \u001b[0;32mfrom\u001b[0m \u001b[0mPIL\u001b[0m \u001b[0;32mimport\u001b[0m \u001b[0mImage\u001b[0m\u001b[0;34m\u001b[0m\u001b[0m\n\u001b[0;32m----> 3\u001b[0;31m     \u001b[0mimg\u001b[0m \u001b[0;34m=\u001b[0m \u001b[0mImage\u001b[0m\u001b[0;34m.\u001b[0m\u001b[0mopen\u001b[0m\u001b[0;34m(\u001b[0m\u001b[0mos\u001b[0m\u001b[0;34m.\u001b[0m\u001b[0mpath\u001b[0m\u001b[0;34m.\u001b[0m\u001b[0mjoin\u001b[0m\u001b[0;34m(\u001b[0m\u001b[0mimages_dir\u001b[0m\u001b[0;34m,\u001b[0m \u001b[0msha1\u001b[0m\u001b[0;34m[\u001b[0m\u001b[0;34m:\u001b[0m\u001b[0;36m3\u001b[0m\u001b[0;34m]\u001b[0m\u001b[0;34m,\u001b[0m \u001b[0msha1\u001b[0m\u001b[0;34m)\u001b[0m\u001b[0;34m)\u001b[0m\u001b[0;34m\u001b[0m\u001b[0m\n\u001b[0m\u001b[1;32m      4\u001b[0m     \u001b[0;32mreturn\u001b[0m \u001b[0mimg\u001b[0m\u001b[0;34m\u001b[0m\u001b[0m\n",
      "\u001b[0;32m/Users/svebor/anaconda/lib/python2.7/site-packages/Pillow-4.0.0-py2.7-macosx-10.6-x86_64.egg/PIL/Image.pyc\u001b[0m in \u001b[0;36mopen\u001b[0;34m(fp, mode)\u001b[0m\n\u001b[1;32m   2310\u001b[0m \u001b[0;34m\u001b[0m\u001b[0m\n\u001b[1;32m   2311\u001b[0m     \u001b[0;32mif\u001b[0m \u001b[0mfilename\u001b[0m\u001b[0;34m:\u001b[0m\u001b[0;34m\u001b[0m\u001b[0m\n\u001b[0;32m-> 2312\u001b[0;31m         \u001b[0mfp\u001b[0m \u001b[0;34m=\u001b[0m \u001b[0mbuiltins\u001b[0m\u001b[0;34m.\u001b[0m\u001b[0mopen\u001b[0m\u001b[0;34m(\u001b[0m\u001b[0mfilename\u001b[0m\u001b[0;34m,\u001b[0m \u001b[0;34m\"rb\"\u001b[0m\u001b[0;34m)\u001b[0m\u001b[0;34m\u001b[0m\u001b[0m\n\u001b[0m\u001b[1;32m   2313\u001b[0m \u001b[0;34m\u001b[0m\u001b[0m\n\u001b[1;32m   2314\u001b[0m     \u001b[0;32mtry\u001b[0m\u001b[0;34m:\u001b[0m\u001b[0;34m\u001b[0m\u001b[0m\n",
      "\u001b[0;31mIOError\u001b[0m: [Errno 2] No such file or directory: '../data/test_images/609/6097a3ecb7b3421562a67b04c77370a02db9b025'"
     ]
    }
   ],
   "source": [
    "for face in faces:\n",
    "    if faces[face]:\n",
    "        img = open_image(face, images_dir)\n",
    "        draw_face_bbox(img, faces[face])\n",
    "        img.show()"
   ]
  },
  {
   "cell_type": "code",
   "execution_count": null,
   "metadata": {
    "collapsed": true
   },
   "outputs": [],
   "source": []
  }
 ],
 "metadata": {
  "kernelspec": {
   "display_name": "Python 2",
   "language": "python",
   "name": "python2"
  },
  "language_info": {
   "codemirror_mode": {
    "name": "ipython",
    "version": 2
   },
   "file_extension": ".py",
   "mimetype": "text/x-python",
   "name": "python",
   "nbconvert_exporter": "python",
   "pygments_lexer": "ipython2",
   "version": "2.7.12"
  }
 },
 "nbformat": 4,
 "nbformat_minor": 1
}
