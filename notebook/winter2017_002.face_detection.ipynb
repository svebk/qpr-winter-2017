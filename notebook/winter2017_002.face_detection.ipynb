{
 "cells": [
  {
   "cell_type": "markdown",
   "metadata": {},
   "source": [
    "## Face detection\n",
    "The goal of this notebook is to detect faces in all the images associated to the set of ads provided for the CP1 during the MEMEX Winter QPR 2017.\n",
    "\n",
    "### Inputs\n",
    "1. image_url_sha1.csv\n",
    "This is a mapping of the URLs images to their SHA1, the images in this file have been downloaded and their SHA1 computed properly.\n",
    "The corresponding images should be stored locally\n",
    "\n",
    "### Outputs\n",
    "1. faces.jl   \n",
    "These are all the faces detected in the images related to all of the ads in the input.    \n",
    "\n",
    "\n",
    "### Requirements\n",
    "jq and parallel\n",
    "\n",
    "    sudo apt-get install parallel\n",
    "    \n",
    "facenet repository: https://github.com/svebk/facenet"
   ]
  },
  {
   "cell_type": "code",
   "execution_count": 1,
   "metadata": {
    "collapsed": true
   },
   "outputs": [],
   "source": [
    "import os\n",
    "#facesearch_dir = \"ColumbiaFaceSearch\"\n",
    "facesearch_dir = \"facesearch\"\n",
    "# set some path parameters\n",
    "input_dir = \"../data/\"\n",
    "FACENET_DIR = \"../../../\"+facesearch_dir+\"/facenet/\"\n",
    "DATA_DIR = \"../../../\"+facesearch_dir+\"/data\"\n",
    "prefix = \"train\"\n",
    "input_file = os.path.join(input_dir,prefix+\"_image_url_sha1.csv\")\n",
    "IMAGE_DIR = os.path.join(input_dir,prefix+'_images')"
   ]
  },
  {
   "cell_type": "code",
   "execution_count": 2,
   "metadata": {
    "collapsed": false
   },
   "outputs": [],
   "source": [
    "# get just sha1 list\n",
    "IMAGE_SHA1S = os.path.join(input_dir,prefix+\"_image_sha1_list.csv\")\n",
    "!cat $input_file | cut -d ',' -f2 | sort | uniq > $IMAGE_SHA1S\n",
    "\n",
    "DETECTED_FACES = os.path.join(input_dir,prefix+\"_faces.jl\")\n",
    "FACES_JOBLOG = prefix+\"_faces.joblog\""
   ]
  },
  {
   "cell_type": "code",
   "execution_count": 3,
   "metadata": {
    "collapsed": false
   },
   "outputs": [
    {
     "name": "stdout",
     "output_type": "stream",
     "text": [
      "Academic tradition requires you to cite works you base your article on.\r\n",
      "When using programs that use GNU Parallel to process data for publication\r\n",
      "please cite:\r\n",
      "\r\n",
      "  O. Tange (2011): GNU Parallel - The Command-Line Power Tool,\r\n",
      "  ;login: The USENIX Magazine, February 2011:42-47.\r\n",
      "\r\n",
      "This helps funding further development; AND IT WON'T COST YOU A CENT.\r\n",
      "If you pay 10000 EUR you should feel free to use GNU Parallel without citing.\r\n",
      "\r\n",
      "To silence this citation notice: run 'parallel --citation'.\r\n",
      "\r\n"
     ]
    }
   ],
   "source": [
    "# find faces in images of ads\n",
    "!parallel --joblog $FACES_JOBLOG \\\n",
    "          --retries 0 \\\n",
    "          --arg-file $IMAGE_SHA1S \\\n",
    "          --max-args 200 \\\n",
    "          --jobs 2 \\\n",
    "        python ../scripts/detect_face.py $FACENET_DIR $DATA_DIR $IMAGE_DIR > $DETECTED_FACES"
   ]
  },
  {
   "cell_type": "code",
   "execution_count": null,
   "metadata": {
    "collapsed": true
   },
   "outputs": [],
   "source": []
  }
 ],
 "metadata": {
  "kernelspec": {
   "display_name": "Python 2",
   "language": "python",
   "name": "python2"
  },
  "language_info": {
   "codemirror_mode": {
    "name": "ipython",
    "version": 2
   },
   "file_extension": ".py",
   "mimetype": "text/x-python",
   "name": "python",
   "nbconvert_exporter": "python",
   "pygments_lexer": "ipython2",
   "version": "2.7.12"
  }
 },
 "nbformat": 4,
 "nbformat_minor": 1
}
