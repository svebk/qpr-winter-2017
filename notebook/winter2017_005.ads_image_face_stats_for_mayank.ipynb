{
 "cells": [
  {
   "cell_type": "markdown",
   "metadata": {},
   "source": [
    "## Face detection\n",
    "The goal of this notebook is to produce ads statistics related to images and faces in the set of ads provided for the CP1 during the MEMEX Winter QPR 2017.\n",
    "\n",
    "### Inputs\n",
    "1. train_images_faces_stats.jl\n",
    "1. test_images_faces_stats.jl\n",
    "2. train_adjusted.json\n",
    "4. test_adjusted_unlabeled.json\n",
    "\n",
    "### Outputs\n",
    "1. train_cluster_images_faces_stats.tsv\n",
    "2. test_cluster_images_faces_stats.tsv\n",
    "\n",
    "Each line is in format:\n",
    "\n",
    "    key \\t values \\t label\n",
    "\n",
    "key is 'cluster_id'\n",
    "\n",
    "values are:\n",
    "- 'faces_min_min' as the minimum number of faces detected in any image of any ad of this cluster\n",
    "- 'faces_min_max' as the maximum of minimum number of faces detected in any image of each ad of this cluster\n",
    "- 'faces_min_median' as the median of minimum number of faces detected in any image of each ad of this cluster\n",
    "- 'faces_max_min' as the minimum of the maximum number of faces detected in any image of each ad of this cluster\n",
    "- 'faces_max_max' as the maximum number of faces detected in any image of any ad of this cluster\n",
    "- 'faces_max_median' as the median of the maximum number of faces detected in any image of each ad of this cluster\n",
    "- 'faces_median_min' as the minimum of the median number of faces detected in any image of each ad of this cluster\n",
    "- 'faces_median_max' as the maximum number of the median number faces detected in any image of any ad of this cluster\n",
    "- 'faces_median_median' as the median of the median number of faces detected in any image of each ad of this cluster\n",
    "- 'faces_count_min' as the mininum of total number of faces detected in all images of each ad of this cluster\n",
    "- 'faces_count_max' as the max number of faces detected in all images of each ad of this cluster\n",
    "- 'faces_count_median' as the median number of faces detected in all images of each ad of this cluster\n",
    "- 'faces_count_total' as the total number of faces detected in all images of all ads of this cluster\n",
    "- 'faces_count_avg' as the average number of faces detected in all images per ad of this cluster\n",
    "- 'image_count_min' as the minimum number of images url (even if not acessible, readable) for one ad in the cluster\n",
    "- 'image_count_max' as the maximum number of images url (even if not acessible, readable) for one ad in the cluster\n",
    "- 'image_count_median' as the median number of images url (even if not acessible, readable) for one ad in the cluster\n",
    "- 'image_count_total' as the total number of images url (even if not acessible, readable) in the cluster\n",
    "- 'image_count_avg' as the average number of images url (even if not acessible, readable) per ad in the cluster\n",
    "- 'number_of_ads' as the number of ads in the cluster"
   ]
  },
  {
   "cell_type": "code",
   "execution_count": 95,
   "metadata": {
    "collapsed": true
   },
   "outputs": [],
   "source": [
    "import os\n",
    "# set some path parameters\n",
    "input_dir = \"../data/\"\n",
    "prefix = \"train\"\n",
    "#prefix = \"test\"\n",
    "if prefix==\"test\":\n",
    "    clusters_ads_file = os.path.join(input_dir,prefix+\"_adjusted_unlabeled.json\")\n",
    "else:\n",
    "    clusters_ads_file = os.path.join(input_dir,prefix+\"_adjusted.json\")\n",
    "stats_file = os.path.join(input_dir,prefix+\"_images_faces_stats.jl\")\n",
    "out_file = os.path.join(input_dir,prefix+\"_images_faces_stats_mayank.tsv\")"
   ]
  },
  {
   "cell_type": "code",
   "execution_count": 96,
   "metadata": {
    "collapsed": true
   },
   "outputs": [],
   "source": [
    "def parse_stats(stats_file):\n",
    "    all_stats = {}\n",
    "    import json\n",
    "    with open(stats_file,\"rt\") as stats_in:\n",
    "        for line in stats_in:\n",
    "            #print line\n",
    "            line_dict = json.loads(line)\n",
    "            for key in line_dict:\n",
    "                all_stats[key] = line_dict[key]\n",
    "            #break\n",
    "    print 'Gathered stats for {} ads.'.format(len(all_stats.keys()))\n",
    "    return all_stats"
   ]
  },
  {
   "cell_type": "code",
   "execution_count": 97,
   "metadata": {
    "collapsed": false
   },
   "outputs": [
    {
     "name": "stdout",
     "output_type": "stream",
     "text": [
      "Gathered stats for 122045 ads.\n"
     ]
    }
   ],
   "source": [
    "all_stats = parse_stats(stats_file)"
   ]
  },
  {
   "cell_type": "code",
   "execution_count": 98,
   "metadata": {
    "collapsed": false
   },
   "outputs": [
    {
     "data": {
      "text/plain": [
       "122045"
      ]
     },
     "execution_count": 98,
     "metadata": {},
     "output_type": "execute_result"
    }
   ],
   "source": [
    "len(all_stats)"
   ]
  },
  {
   "cell_type": "code",
   "execution_count": 99,
   "metadata": {
    "collapsed": false
   },
   "outputs": [],
   "source": [
    "def parse_clusters_ads_file(clusters_ads_file):\n",
    "    clusters_ads_mapping = {}\n",
    "    clusters_labels = {}\n",
    "    import json\n",
    "    label_key = 'annotation'\n",
    "    label_true = 'VERY_RELEVANT'\n",
    "    with open(clusters_ads_file, \"rt\") as clusters_in:\n",
    "        for line in clusters_in:\n",
    "            line_dict = json.loads(line)\n",
    "            cluster_id = line_dict['cluster_id']\n",
    "            ad_id = line_dict['_id']\n",
    "            if cluster_id not in clusters_ads_mapping:\n",
    "                clusters_ads_mapping[cluster_id] = [ad_id]\n",
    "            else:\n",
    "                clusters_ads_mapping[cluster_id].append(ad_id)\n",
    "            if label_key in line_dict:\n",
    "                line_label = line_dict[label_key]\n",
    "                line_true_label = int(line_label == label_true)\n",
    "                #print line_label,line_label == label_true,line_true_label\n",
    "                if cluster_id not in clusters_labels:\n",
    "                    clusters_labels[cluster_id] = line_true_label\n",
    "                else:\n",
    "                    if clusters_labels[cluster_id] != line_true_label:\n",
    "                        print 'Inconsistent labeling for cluster {}'.format(cluster_id)\n",
    "            #print clusters_labels,clusters_ads_mapping,line_dict[label_key] == label_true,line_dict[label_key]\n",
    "            #break\n",
    "    print 'Gathered {} clusters.'.format(len(clusters_ads_mapping))\n",
    "    return clusters_ads_mapping, clusters_labels"
   ]
  },
  {
   "cell_type": "code",
   "execution_count": 100,
   "metadata": {
    "collapsed": false
   },
   "outputs": [
    {
     "name": "stdout",
     "output_type": "stream",
     "text": [
      "Gathered 614 clusters.\n"
     ]
    }
   ],
   "source": [
    "clusters_ads_mapping,clusters_labels = parse_clusters_ads_file(clusters_ads_file)"
   ]
  },
  {
   "cell_type": "code",
   "execution_count": 48,
   "metadata": {
    "collapsed": true
   },
   "outputs": [],
   "source": [
    "def to_percent(y, position):\n",
    "    import matplotlib\n",
    "    # Ignore the passed in position. This has the effect of scaling the default\n",
    "    # tick locations.\n",
    "    s = str(100 * y)\n",
    "\n",
    "    # The percent symbol needs escaping in latex\n",
    "    if matplotlib.rcParams['text.usetex'] is True:\n",
    "        return s + r'$\\%$'\n",
    "    else:\n",
    "        return s + '%'"
   ]
  },
  {
   "cell_type": "code",
   "execution_count": 52,
   "metadata": {
    "collapsed": true
   },
   "outputs": [],
   "source": [
    "def print_stats(np_img_count, nb_bins=100):\n",
    "    import matplotlib\n",
    "    import matplotlib.pyplot as plt\n",
    "    from matplotlib.ticker import FuncFormatter\n",
    "    %matplotlib inline\n",
    "    import numpy as np\n",
    "    print np.min(np_img_count), np.mean(np_img_count), np.max(np_img_count)\n",
    "    # Normed histogram seems to be broken, \n",
    "    # using weights as suggested in http://stackoverflow.com/questions/5498008/pylab-histdata-normed-1-normalization-seems-to-work-incorrect\n",
    "    weights = np.ones_like(np_img_count)/float(len(np_img_count))\n",
    "    res = plt.hist(np_img_count, bins=nb_bins, weights=weights)\n",
    "    print np.sum(res[0])\n",
    "    # Create the formatter using the function to_percent. This multiplies all the\n",
    "    # default labels by 100, making them all percentages\n",
    "    formatter = FuncFormatter(to_percent)\n",
    "\n",
    "    # Set the formatter\n",
    "    plt.gca().yaxis.set_major_formatter(formatter)\n",
    "\n",
    "    plt.show()"
   ]
  },
  {
   "cell_type": "code",
   "execution_count": 50,
   "metadata": {
    "collapsed": false
   },
   "outputs": [],
   "source": [
    "cluster_ads_count = [len(clusters_ads_mapping[x]) for x in clusters_ads_mapping]"
   ]
  },
  {
   "cell_type": "code",
   "execution_count": 53,
   "metadata": {
    "collapsed": false
   },
   "outputs": [
    {
     "name": "stdout",
     "output_type": "stream",
     "text": [
      "1 296.638461538 3470\n",
      "1.0\n"
     ]
    },
    {
     "data": {
      "image/png": "[encoded data removed]",
      "text/plain": [
       "<matplotlib.figure.Figure at 0x7fed7453d950>"
      ]
     },
     "metadata": {},
     "output_type": "display_data"
    }
   ],
   "source": [
    "print_stats(cluster_ads_count, nb_bins=200)"
   ]
  },
  {
   "cell_type": "code",
   "execution_count": 54,
   "metadata": {
    "collapsed": false
   },
   "outputs": [
    {
     "name": "stdout",
     "output_type": "stream",
     "text": [
      "[u'669B6059967F730B138387485594D2ADD2E2C73DD5BEC329DE79ECCBABE747A8', u'B851A24523EA86812467544B7BA6A7887D810819301E86448B2384B9B7A03405', u'523B1A63A15800E9744595C039E32A1EFAF9B25CD5C4DA255BBEEC2F83D01AAB', u'0763AF314DBB2CF4E741A235FDA878FAD838AE9F0F23E603CF63D6287B73AC26', u'3102A5DB439CEA6B0FCA01713E3E27B2A5507D5A631C982A66C0076483B318BE', u'084D7696494B937E9806A049E2823F8ECEBEEC11B13F728D724F3E2F316AEDF6', u'B8323B627FCCB5CEFB086435389CE2804A9C7CBF897764B43B76B32F4302D4C2', u'753CA1E0CC14C9000CB276BFA5A1C6849D7DEE34173DBCF1DD8B63675CD353D1', u'14D47C2F5DE5DDB3EB409B75D92A2BFB1EFF3D16E05F05DF0BB1360DB8A62416']\n",
      "{u'faces_max': 1, u'faces_total': 8, u'images_count': 8, u'faces_min': 1, u'faces_median': 1}\n"
     ]
    }
   ],
   "source": [
    "print clusters_ads_mapping[clusters_ads_mapping.keys()[2]]\n",
    "print all_stats[all_stats.keys()[2]]"
   ]
  },
  {
   "cell_type": "code",
   "execution_count": 86,
   "metadata": {
    "collapsed": false
   },
   "outputs": [
    {
     "name": "stdout",
     "output_type": "stream",
     "text": [
      "\n"
     ]
    }
   ],
   "source": [
    "# get min, max, median, total stats from count\n",
    "def get_mmmt(count):\n",
    "    import numpy as np\n",
    "    if not count:\n",
    "        count = [0]\n",
    "    mi = np.min(count)\n",
    "    ma = np.max(count)\n",
    "    me = int(np.median(count))\n",
    "    t = np.sum(count)\n",
    "    return mi,ma,me,t"
   ]
  },
  {
   "cell_type": "code",
   "execution_count": 89,
   "metadata": {
    "collapsed": false
   },
   "outputs": [],
   "source": [
    "# produce output\n",
    "def produce_output_mayank(clusters_ads_mapping, clusters_labels, all_stats, outfile):\n",
    "    with open(outfile,\"wt\") as out:\n",
    "        for cluster in clusters_ads_mapping:\n",
    "            faces_min = []\n",
    "            faces_max = []\n",
    "            faces_median = []\n",
    "            faces_total = []\n",
    "            images_count = []\n",
    "            for ad_u in clusters_ads_mapping[cluster]:\n",
    "                ad = str(ad_u.strip())\n",
    "                if ad not in all_stats:\n",
    "                    #print 'Ad {} not in all_stats'.format(ad)\n",
    "                    #print '.',\n",
    "                    continue\n",
    "                # compute aggrageted stats\n",
    "                faces_min.append(all_stats[ad]['faces_min'])\n",
    "                faces_max.append(all_stats[ad]['faces_max'])\n",
    "                faces_median.append(all_stats[ad]['faces_median'])\n",
    "                faces_total.append(all_stats[ad]['faces_total'])\n",
    "                images_count.append(all_stats[ad]['images_count'])\n",
    "            fmimi, fmima, fmime, _ = get_mmmt(faces_min)\n",
    "            fmami, fmama, fmame, _ = get_mmmt(faces_max)\n",
    "            fmemi, fmema, fmeme, _ = get_mmmt(faces_median)\n",
    "            ftmi, ftma, ftme, ftt = get_mmmt(faces_total)\n",
    "            imi, ima, ime, it = get_mmmt(images_count)\n",
    "            ads_t = len(clusters_ads_mapping[cluster])\n",
    "            stats = [fmimi, fmima, fmime, fmami, fmama, fmame, fmemi, fmema, fmeme, ftmi, ftma, ftme, ftt, float(ftt)/ads_t, imi, ima, ime, it, float(it)/ads_t, ads_t]\n",
    "            #print stats\n",
    "            #break\n",
    "            out.write(\"{}\\t{}\\t{}\\n\".format(cluster, stats, clusters_labels[cluster]))"
   ]
  },
  {
   "cell_type": "code",
   "execution_count": 90,
   "metadata": {
    "collapsed": false
   },
   "outputs": [],
   "source": [
    "#print all_stats.keys()[0]\n",
    "#print '81951EA0F273BF42552CBC73D01F4D21FCDED6ABE5D97DFA4DFEFD2B6386F418' in all_stats\n",
    "produce_output_mayank(clusters_ads_mapping, clusters_labels, all_stats, out_file)"
   ]
  },
  {
   "cell_type": "code",
   "execution_count": null,
   "metadata": {
    "collapsed": true
   },
   "outputs": [],
   "source": []
  }
 ],
 "metadata": {
  "kernelspec": {
   "display_name": "Python 2",
   "language": "python",
   "name": "python2"
  },
  "language_info": {
   "codemirror_mode": {
    "name": "ipython",
    "version": 2
   },
   "file_extension": ".py",
   "mimetype": "text/x-python",
   "name": "python",
   "nbconvert_exporter": "python",
   "pygments_lexer": "ipython2",
   "version": "2.7.10"
  }
 },
 "nbformat": 4,
 "nbformat_minor": 1
}
