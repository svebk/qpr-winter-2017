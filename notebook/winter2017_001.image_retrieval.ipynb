{
 "cells": [
  {
   "cell_type": "markdown",
   "metadata": {},
   "source": [
    "## Image Retrieval\n",
    "The goal of this notebook is to retrieve the images associated to the set of ads provided for the CP1 during the MEMEX Winter QPR 2017.\n",
    "\n",
    "### Inputs\n",
    "1. A JSON lines file of ads each with an `_id` attribute.\n",
    "e.g. test_adjusted_unlabeled.json, train_adjusted.json\n",
    "\n",
    "### Outputs\n",
    "1. image_documents.jl   \n",
    "These are the children documents (images) related to all of the ads int the input.    \n",
    "2. image_url_to_valid_sha1.csv\n",
    "This is a mapping of the URLs images to their SHA1, the images in this file have been downloaded and their SHA1 computed properly.\n",
    "\n",
    "### Requirements\n",
    "jq and parallel\n",
    "\n",
    "    sudo apt-get install parallel"
   ]
  },
  {
   "cell_type": "code",
   "execution_count": 6,
   "metadata": {
    "collapsed": true
   },
   "outputs": [],
   "source": [
    "# set some parameters\n",
    "json_dir = \"../data\"\n",
    "input_file = \"train_adjusted.json\"\n",
    "prefix = \"train\""
   ]
  },
  {
   "cell_type": "code",
   "execution_count": 16,
   "metadata": {
    "collapsed": false
   },
   "outputs": [],
   "source": [
    "import os\n",
    "output_file = prefix+\"_adjusted_images.json\"\n",
    "sha1_file = prefix+\"_adjusted_images_sha1.csv\"\n",
    "__depends__ = [os.path.join(json_dir, input_file)]\n",
    "__dest__ = [prefix+'_ad_ids.txt',\n",
    "            os.path.join(json_dir, output_file),\n",
    "            os.path.join(json_dir, sha1_file),\n",
    "            prefix+'_image_documents_retrieval.joblog',\n",
    "            prefix+'_image_urls.txt',\n",
    "            prefix+'_image_retrieval.joblog',\n",
    "            prefix+'_image_url_sha1.csv']\n",
    "\n",
    "ADS = __depends__[0]\n",
    "AD_IDS = __dest__[0]\n",
    "IMAGE_DOCUMENTS = __dest__[1]\n",
    "IMAGE_URL_TO_VALID_SHA1 = __dest__[2]\n",
    "IMAGE_DOCUMENTS_JOBLOG = __dest__[3]\n",
    "IMAGE_URLS = __dest__[4]\n",
    "IMAGE_JOBLOG = __dest__[5]\n",
    "IMAGE_URL_SHA1 = __dest__[6]"
   ]
  },
  {
   "cell_type": "code",
   "execution_count": 3,
   "metadata": {
    "collapsed": true
   },
   "outputs": [],
   "source": [
    "import csv"
   ]
  },
  {
   "cell_type": "code",
   "execution_count": 5,
   "metadata": {
    "collapsed": false,
    "scrolled": true
   },
   "outputs": [],
   "source": [
    "!jq -r '._id' $ADS | sort --unique > $AD_IDS"
   ]
  },
  {
   "cell_type": "code",
   "execution_count": 14,
   "metadata": {
    "collapsed": false
   },
   "outputs": [],
   "source": [
    "# find documents from ES that are children of the ad ids (meaning, images)\n",
    "!parallel --joblog $IMAGE_DOCUMENTS_JOBLOG \\\n",
    "          --retries 3 \\\n",
    "          --arg-file $AD_IDS \\\n",
    "          --max-args 50 \\\n",
    "          --jobs 10 \\\n",
    "        python ../scripts/get_es_child_documents.py > $IMAGE_DOCUMENTS "
   ]
  },
  {
   "cell_type": "code",
   "execution_count": 15,
   "metadata": {
    "collapsed": false
   },
   "outputs": [
    {
     "name": "stdout",
     "output_type": "stream",
     "text": [
      "['985146 ../data/train_adjusted_images.json']\n",
      "['318675 train_image_urls.txt']\n"
     ]
    }
   ],
   "source": [
    "#parse error: Invalid numeric literal at line 113991, column 18 \n",
    "#due to timeout?\n",
    "!jq -r '.obj_stored_url' $IMAGE_DOCUMENTS | sort --unique > $IMAGE_URLS\n",
    "\n",
    "num_image_documents = !wc -l $IMAGE_DOCUMENTS\n",
    "print num_image_documents\n",
    "\n",
    "num_image_urls = !wc -l $IMAGE_URLS\n",
    "print num_image_urls"
   ]
  },
  {
   "cell_type": "code",
   "execution_count": null,
   "metadata": {
    "collapsed": false
   },
   "outputs": [
    {
     "name": "stdout",
     "output_type": "stream",
     "text": [
      "Usage: image_download.py [OPTIONS] URL\r\n",
      "\r\n",
      "Error: Missing argument \"url\".\r\n"
     ]
    }
   ],
   "source": [
    "# download images \n",
    "!parallel --joblog $IMAGE_JOBLOG \\\n",
    "          --retries 3 \\\n",
    "          --arg-file $IMAGE_URLS \\\n",
    "          --max-args 1 \\\n",
    "          --jobs 20 \\\n",
    "        python ../scripts/image_download.py > $IMAGE_URL_SHA1"
   ]
  },
  {
   "cell_type": "code",
   "execution_count": null,
   "metadata": {
    "collapsed": false
   },
   "outputs": [],
   "source": [
    "# # validate images\n",
    "# !find images -type f > image_paths.txt\n",
    "# valid_image_sha1s = !smqtk-check-images --file-list image_paths.txt | cut -d, -f2"
   ]
  },
  {
   "cell_type": "code",
   "execution_count": null,
   "metadata": {
    "collapsed": false
   },
   "outputs": [],
   "source": [
    "with open('image_url_to_sha1.csv') as infile, open(IMAGE_URL_TO_VALID_SHA1, 'w') as outfile:\n",
    "    writer = csv.writer(outfile, lineterminator='\\n')\n",
    "    \n",
    "    for (image_url, sha1) in csv.reader(infile):\n",
    "        if sha1 in valid_image_sha1s:\n",
    "            writer.writerow([image_url, sha1])        "
   ]
  }
 ],
 "metadata": {
  "kernelspec": {
   "display_name": "Python 2",
   "language": "python",
   "name": "python2"
  },
  "language_info": {
   "codemirror_mode": {
    "name": "ipython",
    "version": 2
   },
   "file_extension": ".py",
   "mimetype": "text/x-python",
   "name": "python",
   "nbconvert_exporter": "python",
   "pygments_lexer": "ipython2",
   "version": "2.7.12"
  }
 },
 "nbformat": 4,
 "nbformat_minor": 1
}
