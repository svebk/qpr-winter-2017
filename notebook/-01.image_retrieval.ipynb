{
 "cells": [
  {
   "cell_type": "markdown",
   "metadata": {},
   "source": [
    "## Image Retrieval\n",
    "The goal of this notebook is to retrieve the relevant images based on a set of ads provided by IST.\n",
    "\n",
    "### Inputs\n",
    "1. ads.jl   \n",
    "This is a JSON lines file of ads each with an `_id` attribute.   \n",
    "\n",
    "### Outputs\n",
    "1. image_documents.jl   \n",
    "These are the children documents (images) related to all of the ads from ads.jl.    \n",
    "2. image_url_to_valid_sha1.csv    \n",
    "This is a mapping of the URLs images are stored at to their SHA1, the images in this file\n",
    "have been deemed valid by `smqtk-check-images`."
   ]
  },
  {
   "cell_type": "code",
   "execution_count": null,
   "metadata": {
    "collapsed": false
   },
   "outputs": [],
   "source": [
    "__depends__ = ['ads.jl']\n",
    "__dest__ = ['ad_ids.txt',\n",
    "            'image_documents.jl',\n",
    "            'image_url_to_valid_sha1.csv',\n",
    "            'image_documents_retrieval.joblog',\n",
    "            'image_urls.txt',\n",
    "            'image_retrieval.joblog']\n",
    "\n",
    "ADS = __depends__[0]\n",
    "AD_IDS = __dest__[0]\n",
    "IMAGE_DOCUMENTS = __dest__[1]\n",
    "IMAGE_URL_TO_VALID_SHA1 = __dest__[2]\n",
    "IMAGE_DOCUMENTS_JOBLOG = __dest__[3]\n",
    "IMAGE_URLS = __dest__[4]\n",
    "IMAGE_JOBLOG = __dest__[5]"
   ]
  },
  {
   "cell_type": "code",
   "execution_count": null,
   "metadata": {
    "collapsed": true
   },
   "outputs": [],
   "source": [
    "import csv"
   ]
  },
  {
   "cell_type": "code",
   "execution_count": null,
   "metadata": {
    "collapsed": false,
    "scrolled": true
   },
   "outputs": [],
   "source": [
    "!jq -r '._id' $ADS | sort --unique > $AD_IDS"
   ]
  },
  {
   "cell_type": "code",
   "execution_count": null,
   "metadata": {
    "collapsed": false
   },
   "outputs": [],
   "source": [
    "# find documents from ES that are children of the ad ids (meaning, images)\n",
    "!parallel --joblog $IMAGE_DOCUMENTS_JOBLOG \\\n",
    "          --retries 3 \\\n",
    "          --arg-file $AD_IDS \\\n",
    "          --max-args 50 \\\n",
    "          --jobs 10 \\\n",
    "        python ../scripts/get_es_child_documents.py > $IMAGE_DOCUMENTS "
   ]
  },
  {
   "cell_type": "code",
   "execution_count": null,
   "metadata": {
    "collapsed": false
   },
   "outputs": [],
   "source": [
    "!jq -r '.obj_stored_url' $IMAGE_DOCUMENTS | sort --unique > $IMAGE_URLS\n",
    "\n",
    "num_image_urls = !wc -l $IMAGE_URLS\n",
    "print num_image_urls"
   ]
  },
  {
   "cell_type": "code",
   "execution_count": null,
   "metadata": {
    "collapsed": true
   },
   "outputs": [],
   "source": [
    "# download images \n",
    "!parallel --joblog $IMAGE_JOBLOG \\\n",
    "          --retries 3 \\\n",
    "          --arg-file $IMAGE_URLS \\\n",
    "          --max-args 1 \\\n",
    "          --jobs 20 \\\n",
    "        python ../scripts/image_download.py > image_url_to_sha1.csv"
   ]
  },
  {
   "cell_type": "code",
   "execution_count": null,
   "metadata": {
    "collapsed": false
   },
   "outputs": [],
   "source": [
    "# validate images\n",
    "!find images -type f > image_paths.txt\n",
    "valid_image_sha1s = !smqtk-check-images --file-list image_paths.txt | cut -d, -f2"
   ]
  },
  {
   "cell_type": "code",
   "execution_count": null,
   "metadata": {
    "collapsed": false
   },
   "outputs": [],
   "source": [
    "with open('image_url_to_sha1.csv') as infile, open(IMAGE_URL_TO_VALID_SHA1, 'w') as outfile:\n",
    "    writer = csv.writer(outfile, lineterminator='\\n')\n",
    "    \n",
    "    for (image_url, sha1) in csv.reader(infile):\n",
    "        if sha1 in valid_image_sha1s:\n",
    "            writer.writerow([image_url, sha1])        "
   ]
  },
  {
   "cell_type": "code",
   "execution_count": null,
   "metadata": {
    "collapsed": true
   },
   "outputs": [],
   "source": []
  }
 ],
 "metadata": {
  "kernelspec": {
   "display_name": "Python 2",
   "language": "python",
   "name": "python2"
  },
  "language_info": {
   "codemirror_mode": {
    "name": "ipython",
    "version": 2
   },
   "file_extension": ".py",
   "mimetype": "text/x-python",
   "name": "python",
   "nbconvert_exporter": "python",
   "pygments_lexer": "ipython2",
   "version": "2.7.12"
  }
 },
 "nbformat": 4,
 "nbformat_minor": 1
}
