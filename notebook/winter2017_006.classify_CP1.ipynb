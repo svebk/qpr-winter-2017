{
 "cells": [
  {
   "cell_type": "markdown",
   "metadata": {},
   "source": [
    "### Image data\n",
    "The goal of this notebook is to train and evaluated HT risk classification using statistics from the images and the faces detect in the images associated to the set of ads provided for the CP1 during the MEMEX Winter QPR 2017.\n",
    "[Most of the code from Mayank repo]\n",
    "\n",
    "### Input files\n",
    "1. clusters images based features for training and testing\n",
    "\n",
    "### Outputs\n",
    "1. eval file"
   ]
  },
  {
   "cell_type": "code",
   "execution_count": 92,
   "metadata": {
    "collapsed": true
   },
   "outputs": [],
   "source": [
    "import os\n",
    "import json\n",
    "import codecs\n",
    "import re\n",
    "import numpy as np\n",
    "from random import shuffle"
   ]
  },
  {
   "cell_type": "code",
   "execution_count": 93,
   "metadata": {
    "collapsed": true
   },
   "outputs": [],
   "source": [
    "def convert_string_to_float_list(string):\n",
    "    return [float(i) for i in re.split(', ', string[1:-1])]"
   ]
  },
  {
   "cell_type": "code",
   "execution_count": 94,
   "metadata": {
    "collapsed": true
   },
   "outputs": [],
   "source": [
    "def l2_norm_on_matrix(matrix):\n",
    "    \"\"\"\n",
    "    Takes a np.matrix style object and l2-normalizes it.\n",
    "    :param matrix:\n",
    "    :return matrix:\n",
    "    \"\"\"\n",
    "    from sklearn.preprocessing import normalize\n",
    "    warnings.filterwarnings(\"ignore\")\n",
    "    return normalize(matrix)"
   ]
  },
  {
   "cell_type": "code",
   "execution_count": 95,
   "metadata": {
    "collapsed": true
   },
   "outputs": [],
   "source": [
    "def sample_and_extend(list_of_vectors, total_samples):\n",
    "    \"\"\"\n",
    "    Oversampling code for balanced training. We will do deep re-sampling, assuming that the vectors contain\n",
    "    atoms.\n",
    "    :param list_of_vectors: the list of vectors that are going to be re-sampled (randomly)\n",
    "    :param total_samples: The total number of vectors that we want in the list. Make sure that this number\n",
    "    is higher than the length of list_of_vectors\n",
    "    :return: the over-sampled list\n",
    "    \"\"\"\n",
    "    if len(list_of_vectors) >= total_samples:\n",
    "        raise Exception('Check your lengths!')\n",
    "\n",
    "    indices = range(0, len(list_of_vectors))\n",
    "    shuffle(indices)\n",
    "    desired_samples = total_samples-len(list_of_vectors)\n",
    "    # print desired_samples>len(list_of_vectors)\n",
    "    while desired_samples > len(indices):\n",
    "        new_indices = list(indices)\n",
    "        shuffle(new_indices)\n",
    "        indices += new_indices\n",
    "    new_data = [list(list_of_vectors[i]) for i in indices[0:desired_samples]]\n",
    "    # print new_data\n",
    "    return np.append(list_of_vectors, new_data, axis=0)"
   ]
  },
  {
   "cell_type": "code",
   "execution_count": 96,
   "metadata": {
    "collapsed": true
   },
   "outputs": [],
   "source": [
    "def prepare_for_ML_classification(pos_neg_file, normalize=False):\n",
    "    \"\"\"\n",
    "    We need to read in embeddings\n",
    "    :param pos_neg_file: The file generated in one of the preprocess_filtered_* files\n",
    "    :return: A dictionary where a 0,1 label references a numpy matrix.\n",
    "    \"\"\"\n",
    "    result = dict()\n",
    "    pos_features = list()\n",
    "    neg_features = list()\n",
    "    with codecs.open(pos_neg_file, 'r', 'utf-8') as f:\n",
    "        for line in f:\n",
    "            line = line[0:-1]\n",
    "            cols = re.split('\\t',line)\n",
    "            # print list(cols[1])\n",
    "            # break\n",
    "            if int(cols[2]) == 1:\n",
    "                pos_features.append(convert_string_to_float_list(cols[1]))\n",
    "            elif int(cols[2]) == 0:\n",
    "                neg_features.append(convert_string_to_float_list(cols[1]))\n",
    "            else:\n",
    "                print 'error; label not recognized'\n",
    "    # print np.matrix(pos_features)\n",
    "    if normalize == True:\n",
    "        result[0] = l2_norm_on_matrix(np.matrix(neg_features))\n",
    "        result[1] = l2_norm_on_matrix(np.matrix(pos_features))\n",
    "    else:\n",
    "        if len(pos_features) != 0:\n",
    "            result[1] = pos_features\n",
    "        if len(neg_features) != 0:\n",
    "            result[0] = neg_features\n",
    "    return result"
   ]
  },
  {
   "cell_type": "code",
   "execution_count": 97,
   "metadata": {
    "collapsed": true
   },
   "outputs": [],
   "source": [
    "def prepare_train_test_data(pos_neg_file, train_percent = 0.3, randomize=True, balanced_training=True, data_vectors=None):\n",
    "    \"\"\"\n",
    "    :param pos_neg_file:\n",
    "    :param train_percent:\n",
    "    :param randomize: If true, we'll randomize the data we're reading in from pos_neg_file. Otherwise, the initial\n",
    "    train_percent fraction goes into the training data and the rest of it in the test data\n",
    "    :param balanced_training: if True, we will equalize positive and negative training samples by oversampling\n",
    "    the lesser class. For example, if we have 4 positive samples and 7 negative samples, we will randomly re-sample\n",
    "    3 positive samples from the 4 positive samples, meaning there will be repetition. Use with caution.\n",
    "    :param data_vectors: this should be set if pos_neg_file is None. It is mostly for internal uses, so\n",
    "    that we can re-use this function by invoking it from some of the other _prepare_ files.\n",
    "    :return: dictionary containing training/testing data/labels\n",
    "    \"\"\"\n",
    "    import math\n",
    "    if pos_neg_file:\n",
    "        data = prepare_for_ML_classification(pos_neg_file)\n",
    "    elif data_vectors:\n",
    "        data = data_vectors\n",
    "    else:\n",
    "        raise Exception('Neither pos_neg_file nor data_vectors argument is specified. Exiting.')\n",
    "\n",
    "    # print len(data[1])\n",
    "    # print len(data[0])\n",
    "    train_pos_num = int(math.ceil(len(data[1])*train_percent))\n",
    "    train_neg_num = int(math.ceil(len(data[0])*train_percent))\n",
    "    # print train_pos_num\n",
    "    # print train_neg_num\n",
    "    test_pos_num = len(data[1])-train_pos_num\n",
    "    test_neg_num = len(data[0])-train_neg_num\n",
    "    if test_pos_num == 0:\n",
    "        test_pos_num = 1\n",
    "    if test_neg_num == 0:\n",
    "        test_neg_num = 1\n",
    "\n",
    "    test_labels_pos = [[1] * test_pos_num]\n",
    "    test_labels_neg = [[0] * test_neg_num]\n",
    "\n",
    "    if not randomize:\n",
    "        train_data_pos = data[1][0:train_pos_num]\n",
    "        train_data_neg = data[0][0:train_neg_num]\n",
    "        if train_pos_num < len(data[1]):\n",
    "            test_data_pos = data[1][train_pos_num:]\n",
    "        else:\n",
    "            test_data_pos = [data[1][-1]]\n",
    "\n",
    "        if train_neg_num < len(data[0]):\n",
    "            test_data_neg = data[0][train_neg_num:]\n",
    "        else:\n",
    "            test_data_neg = [data[0][-1]]\n",
    "\n",
    "    else:\n",
    "        all_pos_indices = range(0, len(data[1]))\n",
    "        all_neg_indices = range(0, len(data[0]))\n",
    "        shuffle(all_pos_indices)\n",
    "        shuffle(all_neg_indices)\n",
    "\n",
    "        train_data_pos = [data[1][i] for i in all_pos_indices[0:train_pos_num]]\n",
    "        train_data_neg = [data[0][i] for i in all_neg_indices[0:train_neg_num]]\n",
    "\n",
    "        if train_pos_num < len(data[1]):\n",
    "            test_data_pos = [data[1][i] for i in all_pos_indices[train_pos_num:]]\n",
    "        else:\n",
    "            test_data_pos = [data[1][-1]]\n",
    "\n",
    "        if train_neg_num < len(data[0]):\n",
    "            test_data_neg = [data[0][i] for i in all_neg_indices[train_neg_num:]]\n",
    "        else:\n",
    "            test_data_neg = [data[0][-1]]\n",
    "\n",
    "    if balanced_training:\n",
    "        if train_pos_num < train_neg_num:\n",
    "            train_labels_pos = [[1] * train_neg_num]\n",
    "            train_labels_neg = [[0] * train_neg_num]\n",
    "            train_data_pos = sample_and_extend(train_data_pos, total_samples=train_neg_num)\n",
    "        elif train_pos_num > train_neg_num:\n",
    "            train_labels_pos = [[1] * train_pos_num]\n",
    "            train_labels_neg = [[0] * train_pos_num]\n",
    "            train_data_neg = sample_and_extend(train_data_neg, total_samples=train_pos_num)\n",
    "        else:\n",
    "            train_labels_pos = [[1] * train_pos_num]\n",
    "            train_labels_neg = [[0] * train_neg_num]\n",
    "    else:\n",
    "        train_labels_pos = [[1] * train_pos_num]\n",
    "        train_labels_neg = [[0] * train_neg_num]\n",
    "\n",
    "    # print len(train_data_pos)\n",
    "    # print len(train_data_neg)\n",
    "    train_data = np.append(train_data_pos, train_data_neg, axis=0)\n",
    "    test_data = np.append(test_data_pos, test_data_neg, axis=0)\n",
    "    train_labels = np.append(train_labels_pos, train_labels_neg)\n",
    "    test_labels = np.append(test_labels_pos, test_labels_neg)\n",
    "\n",
    "    results = dict()\n",
    "    results['train_data'] = train_data\n",
    "    results['train_labels'] = train_labels\n",
    "    results['test_data'] = test_data\n",
    "    results['test_labels'] = test_labels\n",
    "\n",
    "    return results"
   ]
  },
  {
   "cell_type": "code",
   "execution_count": 98,
   "metadata": {
    "collapsed": true
   },
   "outputs": [],
   "source": [
    "def get_pos_neg_ids(pos_neg_file):\n",
    "    result = list()\n",
    "    with codecs.open(pos_neg_file, 'r', 'utf-8') as f:\n",
    "        for line in f:\n",
    "            line = line[0:-1]\n",
    "            result.append(re.split('\\t',line)[0])\n",
    "    return result"
   ]
  },
  {
   "cell_type": "code",
   "execution_count": 99,
   "metadata": {
    "collapsed": true
   },
   "outputs": [],
   "source": [
    "def prepare_train_test_data_separate_unseen(pos_neg_train_file, pos_neg_test_file, balanced_training=True):\n",
    "    import numpy as np\n",
    "    train = prepare_for_ML_classification(pos_neg_train_file)\n",
    "    test = prepare_for_ML_classification(pos_neg_test_file)\n",
    "    test_ids = get_pos_neg_ids(pos_neg_test_file)\n",
    "    train_pos_num = len(train[1])\n",
    "    train_neg_num = len(train[0])\n",
    "\n",
    "    train_data_pos = train[1][0:train_pos_num]\n",
    "    train_data_neg = train[0][0:train_neg_num]\n",
    "\n",
    "    #test_pos_num = len(test[1])\n",
    "    test_neg_num = len(test[0])\n",
    "    #test_data_pos = test[1][0:test_pos_num]\n",
    "    test_data_neg = test[0][0:test_neg_num]\n",
    "    #test_labels_pos = [[1] * test_pos_num]\n",
    "    test_labels_neg = [[0] * test_neg_num]\n",
    "\n",
    "    if balanced_training:\n",
    "        if train_pos_num < train_neg_num:\n",
    "            train_labels_pos = [[1] * train_neg_num]\n",
    "            train_labels_neg = [[0] * train_neg_num]\n",
    "            train_data_pos = sample_and_extend(train_data_pos, total_samples=train_neg_num)\n",
    "        elif train_pos_num > train_neg_num:\n",
    "            train_labels_pos = [[1] * train_pos_num]\n",
    "            train_labels_neg = [[0] * train_pos_num]\n",
    "            train_data_neg = sample_and_extend(train_data_neg, total_samples=train_pos_num)\n",
    "        else:\n",
    "            train_labels_pos = [[1] * train_pos_num]\n",
    "            train_labels_neg = [[0] * train_neg_num]\n",
    "    else:\n",
    "        train_labels_pos = [[1] * train_pos_num]\n",
    "        train_labels_neg = [[0] * train_neg_num]\n",
    "\n",
    "    # print len(train_data_pos)\n",
    "    # print len(train_data_neg)\n",
    "    train_data = np.append(train_data_pos, train_data_neg, axis=0)\n",
    "    #test_data = np.append(test_data_neg, axis=0)\n",
    "    train_labels = np.append(train_labels_pos, train_labels_neg)\n",
    "    #test_labels = np.append(test_labels_neg)\n",
    "\n",
    "    results = dict()\n",
    "    results['train_data'] = train_data\n",
    "    results['train_labels'] = train_labels\n",
    "    results['test_data'] = test_data_neg\n",
    "    results['test_labels'] = test_labels_neg\n",
    "    results['test_ids'] = test_ids\n",
    "\n",
    "    return results"
   ]
  },
  {
   "cell_type": "code",
   "execution_count": 118,
   "metadata": {
    "collapsed": true
   },
   "outputs": [],
   "source": [
    "def train_and_test_classifier(train_data, train_labels, test_data, test_labels, classifier_model, test_ids=None):\n",
    "    \"\"\"\n",
    "    Take three numpy matrices and compute a bunch of metrics. Hyperparameters must be changed manually,\n",
    "    we do not take them in as input.\n",
    "    This method is for BINARY CLASSIFICATION only, although there is some support for regression.\n",
    "    :param train_data:\n",
    "    :param train_labels:\n",
    "    :param test_data:\n",
    "    :param test_labels:\n",
    "    :param classifier_model:\n",
    "    :return:\n",
    "    \"\"\"\n",
    "    from sklearn.linear_model import LogisticRegression, LinearRegression\n",
    "    from sklearn.ensemble import RandomForestClassifier\n",
    "    from sklearn import neighbors\n",
    "    from sklearn.metrics import roc_auc_score, accuracy_score, precision_score, precision_recall_fscore_support\n",
    "    if classifier_model == 'random_forest':\n",
    "        model = RandomForestClassifier()\n",
    "    elif classifier_model == 'knn':\n",
    "        k = 9\n",
    "        model = neighbors.KNeighborsClassifier(n_neighbors=k, weights='uniform')\n",
    "    elif classifier_model == 'logistic_regression':\n",
    "        model = LogisticRegression()\n",
    "    elif classifier_model == 'linear_regression': # this is a regressor; be careful.\n",
    "        model = LinearRegression()\n",
    "\n",
    "    model.fit(train_data, train_labels)\n",
    "    predicted_labels = model.predict(test_data)\n",
    "    print predicted_labels\n",
    "    print test_labels\n",
    "    predicted_probabilities = model.predict_proba(test_data)\n",
    "    #print predicted_probabilities\n",
    "\n",
    "    final_results = list()\n",
    "    if test_ids is not None:\n",
    "        final_results.append(test_ids)\n",
    "        final_results.append(predicted_probabilities)\n",
    "        return final_results, model\n",
    "    else:\n",
    "        print 'AUC (Area Under Curve): ',\n",
    "        print roc_auc_score(test_labels, predicted_labels)\n",
    "\n",
    "    # precision, recall, thresholds = precision_recall_curve(test_labels, predicted_labels)\n",
    "    # plt.clf()\n",
    "    # plt.plot(recall, precision, label='precision-recall-curve')\n",
    "    # plt.xlabel('Recall')\n",
    "    # plt.ylabel('Precision')\n",
    "    # plt.ylim([0.0, 1.05])\n",
    "    # plt.xlim([0.0, 1.0])\n",
    "    # plt.title('Precision-Recall curve')\n",
    "    # plt.savefig('/home/mayankkejriwal/Downloads/memex-cp4-october/tmp/fig.png')\n",
    "    if classifier_model not in ['linear_regression']:\n",
    "        print 'Accuracy: ',\n",
    "        print accuracy_score(test_labels, predicted_labels)\n",
    "        # print precision_score(test_labels, predicted_labels)\n",
    "        prf = ['Precision: ', 'Recall: ', 'F-score: ', 'Support: ']\n",
    "        print 'Class 0\\tClass 1'\n",
    "        k = precision_recall_fscore_support(test_labels, predicted_labels)\n",
    "        #for i in range(0, len(k)):\n",
    "        #    print prf[i],\n",
    "        #    print k[i]\n",
    "        return [k[0][1], k[1][1], k[2][1]], model"
   ]
  },
  {
   "cell_type": "code",
   "execution_count": 101,
   "metadata": {
    "collapsed": false
   },
   "outputs": [],
   "source": [
    "# set some parameters\n",
    "data_dir = \"../data\"\n",
    "prefix = \"train\"\n",
    "#prefix = \"test\"\n",
    "if prefix==\"train\":\n",
    "    input_file = \"train_adjusted.json\"\n",
    "else:\n",
    "    input_file = \"test_adjusted_unlabelled.json\""
   ]
  },
  {
   "cell_type": "code",
   "execution_count": 102,
   "metadata": {
    "collapsed": true
   },
   "outputs": [],
   "source": [
    "def print_model_weights(weights, labels=\"fmimi, fmima, fmime, fmami, fmama, fmame, fmemi, fmema, fmeme, ftmi, ftma, ftme, ftt, avg_ftt, imi, ima, ime, it, avg_it, ads_t\"):\n",
    "    import matplotlib\n",
    "    import matplotlib.pyplot as plt\n",
    "    %matplotlib inline\n",
    "    fig, ax = plt.subplots()\n",
    "    rects1 = ax.bar(range(len(weights)), weights, width=0.5, color='r')\n",
    "    ax.set_xticks(range(len(weights)))\n",
    "    ax.set_xticklabels(tuple(labels.split(',')), rotation='vertical')\n",
    "    plt.show()"
   ]
  },
  {
   "cell_type": "code",
   "execution_count": 103,
   "metadata": {
    "collapsed": true
   },
   "outputs": [],
   "source": [
    "# train models and evaluate"
   ]
  },
  {
   "cell_type": "code",
   "execution_count": 104,
   "metadata": {
    "collapsed": false
   },
   "outputs": [
    {
     "name": "stdout",
     "output_type": "stream",
     "text": [
      "[1 1 0 0 1 1 1 0 0 0 0 1 0 0 0 1 0 0 0 0 0 1 0 1 1 0 1 0 0 0 1 0 1 1 0 0 1\n",
      " 1 1 0 1 0 1 0 1 0 0 1 0 0 1 0 1 0 0 0 0 0 1 1 0 0 1 1 1 0 0 0 0 0 0 1 0 0\n",
      " 0 1 1 0 1 1 1 0 1 0 0 1 1 0 0 1 1 1 1 1 1 1 1 1 0 0 0 1 1 1 0 1 0 0 0 1 0\n",
      " 0 1 0 1 0 0 0 0 0 1 0 0 1 0 1 1 0 0 1 0 0 0 0 1 1 1 0 0 0 0 0 0 1 1 0 0 0\n",
      " 1 0 1 0 0 0 1 0 1 0 0 0 0 1 0 1 0 0 0 1 0 0 0 1 1 1 1 0 0 0 1 0 1 0 0 1 0\n",
      " 0 0 0 0 1 0 0 1 0 0 0 0 0 0 1 1 0 0 0 0 1 0 0 1 0 0 0 1 0 0 1 0 0 1 1 0 1\n",
      " 1 1 0 1 0 0 0 0 0 0 0 0 1 0 1 0 0 1 0 0 1 0 1 1 1 0 1 1 0 1 1 1 0 0 1 0 0\n",
      " 1 0 1 1 1 0 0 1 1 0 0 0 0 1 1 0 1 0 0 0 1 1 0 0 0 0 0 0 0 0 1 0 0 1 0 1 1\n",
      " 1 0 1 1 1 1 0 0 1 1 0]\n",
      "[1 1 1 1 1 1 1 1 1 1 1 1 1 1 1 1 1 1 1 1 1 1 1 1 1 1 1 0 0 0 0 0 0 0 0 0 0\n",
      " 0 0 0 0 0 0 0 0 0 0 0 0 0 0 0 0 0 0 0 0 0 0 0 0 0 0 0 0 0 0 0 0 0 0 0 0 0\n",
      " 0 0 0 0 0 0 0 0 0 0 0 0 0 0 0 0 0 0 0 0 0 0 0 0 0 0 0 0 0 0 0 0 0 0 0 0 0\n",
      " 0 0 0 0 0 0 0 0 0 0 0 0 0 0 0 0 0 0 0 0 0 0 0 0 0 0 0 0 0 0 0 0 0 0 0 0 0\n",
      " 0 0 0 0 0 0 0 0 0 0 0 0 0 0 0 0 0 0 0 0 0 0 0 0 0 0 0 0 0 0 0 0 0 0 0 0 0\n",
      " 0 0 0 0 0 0 0 0 0 0 0 0 0 0 0 0 0 0 0 0 0 0 0 0 0 0 0 0 0 0 0 0 0 0 0 0 0\n",
      " 0 0 0 0 0 0 0 0 0 0 0 0 0 0 0 0 0 0 0 0 0 0 0 0 0 0 0 0 0 0 0 0 0 0 0 0 0\n",
      " 0 0 0 0 0 0 0 0 0 0 0 0 0 0 0 0 0 0 0 0 0 0 0 0 0 0 0 0 0 0 0 0 0 0 0 0 0\n",
      " 0 0 0 0 0 0 0 0 0 0 0]\n",
      "AUC (Area Under Curve):  0.498346560847\n",
      "Accuracy:  0.57328990228\n",
      "Class 0\tClass 1\n"
     ]
    }
   ],
   "source": [
    "train_percent = 0.5\n",
    "pos_neg_file = os.path.join(data_dir, prefix+\"_images_faces_stats_mayank.tsv\")\n",
    "data_dict = prepare_train_test_data(pos_neg_file, train_percent=train_percent)\n",
    "# 'logistic_regression', 'random_forest', 'knn'\n",
    "data_dict['classifier_model'] = 'logistic_regression'\n",
    "results, model = train_and_test_classifier(**data_dict)"
   ]
  },
  {
   "cell_type": "code",
   "execution_count": 105,
   "metadata": {
    "collapsed": false
   },
   "outputs": [
    {
     "name": "stdout",
     "output_type": "stream",
     "text": [
      "[ -1.77820724e-01  -1.70622498e-01  -3.77094741e-01   7.41915756e-02\n",
      "  -2.22870323e-01   3.67388400e-01  -1.84722009e-02   5.17807384e-01\n",
      "  -9.44450999e-01  -2.71075233e-01  -1.68738157e-02   4.02232892e-01\n",
      "  -1.32675355e-04  -5.78022012e-02   3.54395955e-01   1.73532642e-03\n",
      "  -6.59982154e-01   3.12335656e-04   2.83750203e-01  -1.41199480e-03]\n"
     ]
    },
    {
     "data": {
      "image/png": "[encoded data removed]",
      "text/plain": [
       "<matplotlib.figure.Figure at 0x7f14cd1bfe10>"
      ]
     },
     "metadata": {},
     "output_type": "display_data"
    }
   ],
   "source": [
    "print model.coef_[0]\n",
    "print_model_weights(model.coef_[0])"
   ]
  },
  {
   "cell_type": "code",
   "execution_count": 106,
   "metadata": {
    "collapsed": false
   },
   "outputs": [
    {
     "name": "stdout",
     "output_type": "stream",
     "text": [
      "[1 0 0 0 0 1 0 0 0 0 0 0 0 0 0 0 0 0 0 0 0 0 0 0 0 0 0 0 0 0 0 0 0 0 0 0 0\n",
      " 0 0 0 1 0 0 0 0 0 0 0 0 0 0 0 0 0 0 0 0 0 0 0 0 0 0 0 0 0 0 0 0 0 0 0 0 0\n",
      " 0 0 1 0 0 0 0 0 0 0 0 0 1 0 0 1 0 1 0 0 0 1 0 0 0 0 0 0 0 0 0 0 0 0 0 0 0\n",
      " 0 0 0 0 0 0 0 0 0 0 0 0 0 0 0 0 0 0 0 0 0 0 0 0 0 0 0 0 0 0 0 0 0 1 0 0 0\n",
      " 0 0 0 0 0 0 0 0 0 0 0 0 0 0 0 0 0 0 0 0 0 0 0 0 0 0 1 0 0 0 1 0 0 0 0 0 0\n",
      " 0 0 0 0 0 0 0 0 0 0 0 0 0 0 0 0 0 0 0 0 0 0 0 0 0 0 0 0 0 0 1 0 0 1 0 0 1\n",
      " 0 0 0 0 0 0 0 0 0 0 0 0 0 0 0 0 0 0 0 0 1 0 1 0 0 0 0 0 0 0 0 0 0 0 0 0 0\n",
      " 0 0 0 0 0 0 0 0 0 0 0 0 0 0 0 0 1 0 0 0 1 0 0 0 0 0 0 0 0 0 0 0 0 0 0 0 0\n",
      " 0 0 0 0 0 1 0 0 0 0 0]\n",
      "[1 1 1 1 1 1 1 1 1 1 1 1 1 1 1 1 1 1 1 1 1 1 1 1 1 1 1 0 0 0 0 0 0 0 0 0 0\n",
      " 0 0 0 0 0 0 0 0 0 0 0 0 0 0 0 0 0 0 0 0 0 0 0 0 0 0 0 0 0 0 0 0 0 0 0 0 0\n",
      " 0 0 0 0 0 0 0 0 0 0 0 0 0 0 0 0 0 0 0 0 0 0 0 0 0 0 0 0 0 0 0 0 0 0 0 0 0\n",
      " 0 0 0 0 0 0 0 0 0 0 0 0 0 0 0 0 0 0 0 0 0 0 0 0 0 0 0 0 0 0 0 0 0 0 0 0 0\n",
      " 0 0 0 0 0 0 0 0 0 0 0 0 0 0 0 0 0 0 0 0 0 0 0 0 0 0 0 0 0 0 0 0 0 0 0 0 0\n",
      " 0 0 0 0 0 0 0 0 0 0 0 0 0 0 0 0 0 0 0 0 0 0 0 0 0 0 0 0 0 0 0 0 0 0 0 0 0\n",
      " 0 0 0 0 0 0 0 0 0 0 0 0 0 0 0 0 0 0 0 0 0 0 0 0 0 0 0 0 0 0 0 0 0 0 0 0 0\n",
      " 0 0 0 0 0 0 0 0 0 0 0 0 0 0 0 0 0 0 0 0 0 0 0 0 0 0 0 0 0 0 0 0 0 0 0 0 0\n",
      " 0 0 0 0 0 0 0 0 0 0 0]\n",
      "AUC (Area Under Curve):  0.50667989418\n",
      "Accuracy:  0.86319218241\n",
      "Class 0\tClass 1\n"
     ]
    }
   ],
   "source": [
    "data_dict['classifier_model'] = 'random_forest'\n",
    "results, model = train_and_test_classifier(**data_dict)"
   ]
  },
  {
   "cell_type": "code",
   "execution_count": 107,
   "metadata": {
    "collapsed": false
   },
   "outputs": [
    {
     "name": "stdout",
     "output_type": "stream",
     "text": [
      "[ 0.00133971  0.03159566  0.00564112  0.00993338  0.05690904  0.03585224\n",
      "  0.00342436  0.03783454  0.00825077  0.00643574  0.07188015  0.04145875\n",
      "  0.05563019  0.05387068  0.04705855  0.08000553  0.06395805  0.12718688\n",
      "  0.08721936  0.17451531]\n"
     ]
    },
    {
     "data": {
      "image/png": "[encoded data removed]",
      "text/plain": [
       "<matplotlib.figure.Figure at 0x7f14cd1d5310>"
      ]
     },
     "metadata": {},
     "output_type": "display_data"
    }
   ],
   "source": [
    "print model.feature_importances_\n",
    "print_model_weights(model.feature_importances_)"
   ]
  },
  {
   "cell_type": "code",
   "execution_count": 108,
   "metadata": {
    "collapsed": false
   },
   "outputs": [
    {
     "name": "stdout",
     "output_type": "stream",
     "text": [
      "[1 1 1 1 1 1 1 1 0 0 0 0 0 0 0 1 0 1 0 0 0 0 1 0 1 1 0 0 1 0 0 0 1 1 1 1 0\n",
      " 1 0 1 1 0 0 0 0 1 0 0 0 0 0 1 0 0 0 1 1 1 0 0 1 0 0 0 1 1 1 0 1 1 1 0 1 0\n",
      " 0 0 1 0 0 0 0 1 0 0 0 1 1 0 1 1 1 1 0 0 1 1 1 1 0 1 0 0 0 0 0 0 1 0 0 1 0\n",
      " 0 1 1 1 0 1 0 0 0 1 0 0 0 0 1 0 0 0 0 0 0 1 0 0 0 0 0 0 0 0 1 0 1 1 0 1 0\n",
      " 1 1 0 1 0 1 0 0 0 1 0 1 0 0 0 1 0 1 0 0 0 0 0 0 0 1 1 0 0 0 1 0 1 0 0 0 0\n",
      " 1 1 0 0 0 0 0 0 0 0 0 0 0 1 0 0 0 0 0 0 0 0 1 0 1 1 0 1 0 0 1 0 0 1 1 0 1\n",
      " 1 0 1 0 0 0 1 0 1 1 0 0 1 1 1 0 1 0 0 0 1 0 1 1 0 0 0 1 0 0 1 1 0 1 1 0 0\n",
      " 0 0 0 0 0 0 0 0 0 1 1 0 0 0 0 0 1 0 0 0 1 1 1 0 0 0 0 0 1 1 0 0 0 0 0 0 0\n",
      " 0 0 0 0 0 1 0 0 1 0 1]\n",
      "[1 1 1 1 1 1 1 1 1 1 1 1 1 1 1 1 1 1 1 1 1 1 1 1 1 1 1 0 0 0 0 0 0 0 0 0 0\n",
      " 0 0 0 0 0 0 0 0 0 0 0 0 0 0 0 0 0 0 0 0 0 0 0 0 0 0 0 0 0 0 0 0 0 0 0 0 0\n",
      " 0 0 0 0 0 0 0 0 0 0 0 0 0 0 0 0 0 0 0 0 0 0 0 0 0 0 0 0 0 0 0 0 0 0 0 0 0\n",
      " 0 0 0 0 0 0 0 0 0 0 0 0 0 0 0 0 0 0 0 0 0 0 0 0 0 0 0 0 0 0 0 0 0 0 0 0 0\n",
      " 0 0 0 0 0 0 0 0 0 0 0 0 0 0 0 0 0 0 0 0 0 0 0 0 0 0 0 0 0 0 0 0 0 0 0 0 0\n",
      " 0 0 0 0 0 0 0 0 0 0 0 0 0 0 0 0 0 0 0 0 0 0 0 0 0 0 0 0 0 0 0 0 0 0 0 0 0\n",
      " 0 0 0 0 0 0 0 0 0 0 0 0 0 0 0 0 0 0 0 0 0 0 0 0 0 0 0 0 0 0 0 0 0 0 0 0 0\n",
      " 0 0 0 0 0 0 0 0 0 0 0 0 0 0 0 0 0 0 0 0 0 0 0 0 0 0 0 0 0 0 0 0 0 0 0 0 0\n",
      " 0 0 0 0 0 0 0 0 0 0 0]\n",
      "AUC (Area Under Curve):  0.565740740741\n",
      "Accuracy:  0.635179153094\n",
      "Class 0\tClass 1\n"
     ]
    }
   ],
   "source": [
    "data_dict['classifier_model'] = 'knn'\n",
    "results, model = train_and_test_classifier(**data_dict)"
   ]
  },
  {
   "cell_type": "code",
   "execution_count": 119,
   "metadata": {
    "collapsed": false
   },
   "outputs": [
    {
     "name": "stdout",
     "output_type": "stream",
     "text": [
      "1120 1120\n",
      "130 1\n",
      "[[0, 0, 0, 0, 0, 0, 0, 0, 0, 0, 0, 0, 0, 0, 0, 0, 0, 0, 0, 0, 0, 0, 0, 0, 0, 0, 0, 0, 0, 0, 0, 0, 0, 0, 0, 0, 0, 0, 0, 0, 0, 0, 0, 0, 0, 0, 0, 0, 0, 0, 0, 0, 0, 0, 0, 0, 0, 0, 0, 0, 0, 0, 0, 0, 0, 0, 0, 0, 0, 0, 0, 0, 0, 0, 0, 0, 0, 0, 0, 0, 0, 0, 0, 0, 0, 0, 0, 0, 0, 0, 0, 0, 0, 0, 0, 0, 0, 0, 0, 0, 0, 0, 0, 0, 0, 0, 0, 0, 0, 0, 0, 0, 0, 0, 0, 0, 0, 0, 0, 0, 0, 0, 0, 0, 0, 0, 0, 0, 0, 0]]\n"
     ]
    }
   ],
   "source": [
    "# actual evaluation\n",
    "train_pos_neg_file = os.path.join(data_dir, \"train_images_faces_stats_mayank.tsv\")\n",
    "test_pos_neg_file = os.path.join(data_dir, \"test_images_faces_stats_mayank.tsv\")\n",
    "data_dict = prepare_train_test_data_separate_unseen(train_pos_neg_file, test_pos_neg_file)\n",
    "print len(data_dict['train_data']),len(data_dict['train_labels'])\n",
    "print len(data_dict['test_data']),len(data_dict['test_labels'])\n",
    "print data_dict['test_labels']"
   ]
  },
  {
   "cell_type": "code",
   "execution_count": 133,
   "metadata": {
    "collapsed": false
   },
   "outputs": [
    {
     "name": "stdout",
     "output_type": "stream",
     "text": [
      "[0 0 1 0 0 1 1 1 1 0 1 1 1 1 0 1 0 0 1 1 0 0 1 0 1 0 0 1 0 1 0 0 0 1 1 1 0\n",
      " 1 0 0 1 0 1 1 0 0 0 1 1 0 1 0 1 0 0 0 1 1 0 1 0 1 1 1 0 1 1 0 0 0 1 1 1 0\n",
      " 0 1 1 1 0 1 0 1 0 1 0 0 0 0 1 1 1 1 1 0 1 0 1 1 0 0 1 0 1 1 1 0 1 1 1 0 1\n",
      " 0 0 1 0 1 1 1 1 0 1 1 1 1 0 0 0 1 1 0]\n",
      "[[0, 0, 0, 0, 0, 0, 0, 0, 0, 0, 0, 0, 0, 0, 0, 0, 0, 0, 0, 0, 0, 0, 0, 0, 0, 0, 0, 0, 0, 0, 0, 0, 0, 0, 0, 0, 0, 0, 0, 0, 0, 0, 0, 0, 0, 0, 0, 0, 0, 0, 0, 0, 0, 0, 0, 0, 0, 0, 0, 0, 0, 0, 0, 0, 0, 0, 0, 0, 0, 0, 0, 0, 0, 0, 0, 0, 0, 0, 0, 0, 0, 0, 0, 0, 0, 0, 0, 0, 0, 0, 0, 0, 0, 0, 0, 0, 0, 0, 0, 0, 0, 0, 0, 0, 0, 0, 0, 0, 0, 0, 0, 0, 0, 0, 0, 0, 0, 0, 0, 0, 0, 0, 0, 0, 0, 0, 0, 0, 0, 0]]\n"
     ]
    }
   ],
   "source": [
    "# 'logistic_regression', 'random_forest', 'knn'\n",
    "#data_dict['classifier_model'] = 'random_forest'\n",
    "data_dict['classifier_model'] = 'logistic_regression'\n",
    "results, model = train_and_test_classifier(**data_dict)"
   ]
  },
  {
   "cell_type": "code",
   "execution_count": 134,
   "metadata": {
    "collapsed": false
   },
   "outputs": [
    {
     "name": "stdout",
     "output_type": "stream",
     "text": [
      "[[u'a99a6739634570f1fbb9de84ddbf07e23c6a0a01', u'8ba21382d6dc205fab0fc6cf8df44116a56acdd0', u'7b189426fb3f9e7f064c90a36b9535ebb7addcea', u'c9f09cb1780306b8c136662c5762c5c4389aa7d7', u'5c2d657f13a027488a9d94f709df02878c6dec62', u'ff9f213f43e0d9ab479af22617dda03bbc4f6e15', u'2eab54f516897c7a30892053cf51924e3c0c7c04', u'b4676faf0ff2d53d156b012f2e30fcf885696f56', u'137003eae9020b75371fbc2096705ca0e0d83172', u'd7e32da2f52840ef88aa1222c93dff5461cbb7e8', u'39b8888fb61cdf580a0e74f8ac02a1ad35aabb36', u'3989e43536a6100c20789671572243d2f4238642', u'2f791ad7f4ab32363a72704c1f93c44450895c6c', u'cc1d3542eba81bf4cf886a12b43becc1e0d3690a', u'30e1338ef1c4663a7f58aa844e56d5429dd458bd', u'509326c19ea93763d1fc710dceecd273b6270b7b', u'7d478f441360ca156c1949c433cf07efd443096a', u'6346c598e16d75fd72bcdb5b630ffa998fe79d8d', u'1904d428f12a6a6f3fb5ee79c13ca5ebf90c1de4', u'c50493d469c2909911ff79baffac52e2f23a1a33', u'a30057883fe42c943365dfa7444af9b1b5e6cf9b', u'4fe14fb5bc4711d3d79f4a782c643e5b3dbdaaf7', u'56949438db45216eab2db751e293c51c0cbdb9c6', u'21d19d5334457cd636b6bef5d4e52972ef0dfa0d', u'0180f95e45f37d3733c9641efb9d11226fc83419', u'5ceca7c64c00a9d689232ea6348ed33efd4c9341', u'7e30109744efb3061744237576c1599ed6237dab', u'ca45e0bc8100bf4fb6f7f06ca40504eb5dc84404', u'8ecfe209139f1a9d4256c75740fe9e7ea1f31291', u'e6502b28cb5f4d73d1042328bf09dadca7f482d5', u'30706411d250414c77a8fa6e618a07a5087a04cd', u'd1ec58d6e59fcc7dc8cb8fb5580dcc4996bd6b6f', u'bd0162c3ea804a2ee64889aa33bd1ccc7ba915ff', u'5b18371bdcf34dd853929159ff5fc37d3ef8d889', u'6c97d7f9fc79720ac67343a179b9edfcfb5ced63', u'429df829356076209dfb576b1906d98536404e09', u'1487b1e01d4e19d843d31e9cf4fa73c7bca3d73e', u'8a421d5128ff7f2e15acc3a47ce9abb51b1b020b', u'd75c94f86282a3355d92375aca5c3969845f7400', u'8e86801e3d009873466c7b2333d09f3da067ce83', u'adceceddf7647f06f5cc5d6e555dfa940cdc138a', u'ec4c8b2be0aa1b71620b3fe2200d1b2324affc2e', u'3ddc80cb50734f7844dc19e95515a1a09dfa0503', u'ee3cc04333060212834810870aea5d42e98b026b', u'84cdcf8f3f3155e66200923976a6d922c8387d2b', u'91ca05ed1cb4ab55cc002e10daf7337cf21e563c', u'b3379cd44bbc07fb49a1372e7a4e7936f14b54d4', u'710aa51b7c8d508052595a3080419b830f852649', u'de1f1f4faf7fcd4d4c8fb424211c635eaa1f60c1', u'c5f1ab051c18ce17596f37f00ec26eb334f70a68', u'60909d9cc88c2df9882d4659f89c36e70b214669', u'a16e7fc8ffdf9f6497fbbca1ba7128201a9cbb86', u'217e0468c7eaa12291a41e02b4f0eabf38c14ebe', u'764b64b81a72f0502133fe970c1bc94a3b504c2a', u'e529091bf4a603e1a3a1a02849c7f49a6b53802d', u'bbb4c38df0ce28c0e481ee271e608ef0fa06bff2', u'463cd64c3e8a12bb41282edcd0b9c890ffe69179', u'd04601fa8f63f5317a81c2c3ac0846de15854d64', u'1b311cce7eff248dc8b526c0bd2d9d89792e7076', u'428de28dc982947d5f570fb2362d557d0f57d20c', u'e83eee5a954dbd89a54d2cbe73b4ea81f1da0f18', u'826b473e788c7630b2602c3d45e795d844b8011c', u'd0c09bf712f6032372d75507120bfce1f977db7a', u'0d59c51931adfaf19d85df33948867eb2606af59', u'fb73c8c2f33f96c1346ab47ef688af1e20106b7d', u'10cddb536c76d74abc8af2bad0118b33efef0996', u'73315bad4fbe5c47c5e55f47c1644af38de66d7b', u'364b436514765db56666915f64f27f253b6016f7', u'07201eb30fffed42a5002774a2acf30e929b6e0f', u'867c2c0674a5ad9861f06ee22aaafc5f2459a22c', u'a4eaea0a9fcd23ccf929036fc235b36959f897f3', u'1ab2bf3e18eb1bb36011e7a736a80d0f7f71660c', u'68ddf2d05c794a4d7395eac63dc37e6558396081', u'14df233f87ae8091f9d9d3c3837323aca43fd485', u'ccd2412e5122d6f349316244c4738740c5cffe04', u'9c30f3bac08f163b9a358d0abc31045cf223471d', u'84a7a66611f9c3bbcbad74efe9577b5ea5e442e1', u'd3cbf2e5b160ed5f2f84a48e2c3434df06bc9fe8', u'5add154255d238a20953aee90db71ea5d4f316f2', u'de4c7ed6ce1b732b7d5f61f188557624519d8b00', u'03778bd89fb77881a3300a4888f8a6bbdf6494b2', u'd040a28055c038f3330f596611d7a545da6ba2b0', u'afd5b363d9f7ccc283e46fbb27af588e47e2928e', u'92631ee561a6f63de414c24167f8a7fc8f89950f', u'78309ff6c7eca192cb8094c23bbf7690d5bb0ae7', u'2bfaf153d0588a50859e7355896ce6755e9a6f64', u'04ba2065bf8a6abbcea760721d720678b45a0de0', u'91b66d358155a5c3a0dfadf1219fa759b3a741fb', u'a46b1bb98b2eda196a4edacacf411576b74fb61d', u'd300f62791384782ae75dd234d4ea84448762d15', u'757e36d7867f628b1c6ebb17b33df5dd3674c595', u'23dfb4578fd88d9661215bb6e1b5063f60826868', u'ce3ce5b5b55580424e2f008247309c9e5104327c', u'f8a58e64a61ab00d999c205cf63e4310a3d8f5bd', u'f526e6b3f5ac8b6bcdc56ca79491cdb3f37df1b5', u'537cca294f96ca510b134e69aa8c4c1fccd7722d', u'c28e9e4ba5d18ea84e77d75e4c457d4de4bf765a', u'c6170ac0f46d1d9adf559ad3a2fd2c3f92711e2b', u'edfe41a52c0fc18f7de7aaa11cfbfb8af02116fc', u'4de79fc40dd8249d3e996cb2f288a98774143c2c', u'c1671399fc5fedcaf20d48f6dd3adb9c819304fa', u'f9034404dfadebe763f6ce048c1a9bbdeccb8b59', u'ce3fb900eb7ca45e4a1dab30624b822fa40418d1', u'376a717c40a45d6db74f5b4c60bc607346661868', u'cf983138fd7ad07867f01a2439af23b03c29589c', u'd758ce5ba722d3fddda88a3a72852df84a3578ea', u'27a2450c16c2380192d93087405f981ef4841058', u'c589fe6b7ee09585253dd669887d6cef1ee0100e', u'd9948542c966fc4cae1f13249f5c5ff88dd34883', u'd4e9556e9ea9a6e85fa0a0717023379d377570e5', u'45a5fb6230119139230250f19c29b17a0b25e529', u'79e1e3a24194de81707cbdfb4dba15505f356689', u'fa91c6426380c478a2d867021858c3b11a870b20', u'29dd516a2c5c6230208e31ed664ca35b89f597a1', u'908fa17e0f0f7b2f8c74402007dab7c5cfa5feea', u'72139b3ab03d16c3de2078296e3a57bdcadaf86e', u'99aa37c3a01d0947939a6f09f6dcf737df83af00', u'e0a43a3a48ce3be73f208e166b16f9f649a46218', u'439909717b559b69b3f56f4bc65542741e5a00e5', u'e9b443bb11d426dbfbe4de2a29d26a78220828a0', u'47cb8a8f0fa7e73c1e0d7011aa1ecb16a9468922', u'2abb648ef094058960e74bab3d438ac613b8a38e', u'21a481c408152dc0436c432ba3d614e4341199a5', u'bdc8bbab55339be5dbc2b051bf2183dcaafe5f52', u'cf50e7e83373670e6a4e4254bd9e7d756bcdc4c7', u'a17fd5ced8db4083b37ab8403c26f83be2a4a05f', u'7b1659324a197f9c9ed17214ea88ebb4f26982e9', u'50188d032b43bb9632691e9d0808e7508f34d6af', u'f5bbf042be59c09f726c298e4f45806ff14893c7', u'7d44c773c4e497bb21816fa9ed18e1c9dd4207b7'], array([[ 0.81338076,  0.18661924],\n",
      "       [ 0.70546428,  0.29453572],\n",
      "       [ 0.36766274,  0.63233726],\n",
      "       [ 0.53257949,  0.46742051],\n",
      "       [ 0.90757386,  0.09242614],\n",
      "       [ 0.29951509,  0.70048491],\n",
      "       [ 0.46720022,  0.53279978],\n",
      "       [ 0.41480483,  0.58519517],\n",
      "       [ 0.47815256,  0.52184744],\n",
      "       [ 0.61439549,  0.38560451],\n",
      "       [ 0.42856156,  0.57143844],\n",
      "       [ 0.37900765,  0.62099235],\n",
      "       [ 0.38659783,  0.61340217],\n",
      "       [ 0.37954585,  0.62045415],\n",
      "       [ 0.58411376,  0.41588624],\n",
      "       [ 0.3774393 ,  0.6225607 ],\n",
      "       [ 0.8062689 ,  0.1937311 ],\n",
      "       [ 0.66089338,  0.33910662],\n",
      "       [ 0.37993046,  0.62006954],\n",
      "       [ 0.44946506,  0.55053494],\n",
      "       [ 0.56932821,  0.43067179],\n",
      "       [ 0.61147806,  0.38852194],\n",
      "       [ 0.37900765,  0.62099235],\n",
      "       [ 0.70499812,  0.29500188],\n",
      "       [ 0.48406392,  0.51593608],\n",
      "       [ 0.73634609,  0.26365391],\n",
      "       [ 0.69707535,  0.30292465],\n",
      "       [ 0.37091083,  0.62908917],\n",
      "       [ 0.86073744,  0.13926256],\n",
      "       [ 0.48116558,  0.51883442],\n",
      "       [ 0.65625425,  0.34374575],\n",
      "       [ 0.69420838,  0.30579162],\n",
      "       [ 0.60223091,  0.39776909],\n",
      "       [ 0.3800074 ,  0.6199926 ],\n",
      "       [ 0.38679359,  0.61320641],\n",
      "       [ 0.47326253,  0.52673747],\n",
      "       [ 0.53134789,  0.46865211],\n",
      "       [ 0.40500824,  0.59499176],\n",
      "       [ 0.55094432,  0.44905568],\n",
      "       [ 0.82333023,  0.17666977],\n",
      "       [ 0.4968111 ,  0.5031889 ],\n",
      "       [ 0.71937232,  0.28062768],\n",
      "       [ 0.46497763,  0.53502237],\n",
      "       [ 0.37871833,  0.62128167],\n",
      "       [ 0.53294824,  0.46705176],\n",
      "       [ 0.59101883,  0.40898117],\n",
      "       [ 0.66425352,  0.33574648],\n",
      "       [ 0.37931516,  0.62068484],\n",
      "       [ 0.3411679 ,  0.6588321 ],\n",
      "       [ 0.67445738,  0.32554262],\n",
      "       [ 0.42239957,  0.57760043],\n",
      "       [ 0.52103467,  0.47896533],\n",
      "       [ 0.3064024 ,  0.6935976 ],\n",
      "       [ 0.71614657,  0.28385343],\n",
      "       [ 0.59365337,  0.40634663],\n",
      "       [ 0.59072838,  0.40927162],\n",
      "       [ 0.44157119,  0.55842881],\n",
      "       [ 0.45666087,  0.54333913],\n",
      "       [ 0.52867865,  0.47132135],\n",
      "       [ 0.38077714,  0.61922286],\n",
      "       [ 0.57882537,  0.42117463],\n",
      "       [ 0.36223111,  0.63776889],\n",
      "       [ 0.44861737,  0.55138263],\n",
      "       [ 0.37916139,  0.62083861],\n",
      "       [ 0.86578116,  0.13421884],\n",
      "       [ 0.25462367,  0.74537633],\n",
      "       [ 0.43319552,  0.56680448],\n",
      "       [ 0.55641084,  0.44358916],\n",
      "       [ 0.68379546,  0.31620454],\n",
      "       [ 0.54040798,  0.45959202],\n",
      "       [ 0.4527466 ,  0.5472534 ],\n",
      "       [ 0.45103237,  0.54896763],\n",
      "       [ 0.46542195,  0.53457805],\n",
      "       [ 0.53177243,  0.46822757],\n",
      "       [ 0.64732496,  0.35267504],\n",
      "       [ 0.31352081,  0.68647919],\n",
      "       [ 0.46024571,  0.53975429],\n",
      "       [ 0.45143107,  0.54856893],\n",
      "       [ 0.67103705,  0.32896295],\n",
      "       [ 0.45526363,  0.54473637],\n",
      "       [ 0.92519141,  0.07480859],\n",
      "       [ 0.38085415,  0.61914585],\n",
      "       [ 0.53726622,  0.46273378],\n",
      "       [ 0.40889147,  0.59110853],\n",
      "       [ 0.61102211,  0.38897789],\n",
      "       [ 0.67282746,  0.32717254],\n",
      "       [ 0.52976676,  0.47023324],\n",
      "       [ 0.58494649,  0.41505351],\n",
      "       [ 0.31563594,  0.68436406],\n",
      "       [ 0.38062315,  0.61937685],\n",
      "       [ 0.37908452,  0.62091548],\n",
      "       [ 0.39668683,  0.60331317],\n",
      "       [ 0.48762516,  0.51237484],\n",
      "       [ 0.7220551 ,  0.2779449 ],\n",
      "       [ 0.38116223,  0.61883777],\n",
      "       [ 0.85942474,  0.14057526],\n",
      "       [ 0.43678017,  0.56321983],\n",
      "       [ 0.37962276,  0.62037724],\n",
      "       [ 0.92958725,  0.07041275],\n",
      "       [ 0.58473855,  0.41526145],\n",
      "       [ 0.34372199,  0.65627801],\n",
      "       [ 0.67501666,  0.32498334],\n",
      "       [ 0.39280343,  0.60719657],\n",
      "       [ 0.37900765,  0.62099235],\n",
      "       [ 0.42072053,  0.57927947],\n",
      "       [ 0.69861605,  0.30138395],\n",
      "       [ 0.39556673,  0.60443327],\n",
      "       [ 0.49653763,  0.50346237],\n",
      "       [ 0.46034781,  0.53965219],\n",
      "       [ 0.51815125,  0.48184875],\n",
      "       [ 0.38692412,  0.61307588],\n",
      "       [ 0.6688903 ,  0.3311097 ],\n",
      "       [ 0.70278165,  0.29721835],\n",
      "       [ 0.31594875,  0.68405125],\n",
      "       [ 0.68050286,  0.31949714],\n",
      "       [ 0.38023826,  0.61976174],\n",
      "       [ 0.37954585,  0.62045415],\n",
      "       [ 0.47199293,  0.52800707],\n",
      "       [ 0.37993046,  0.62006954],\n",
      "       [ 0.76853805,  0.23146195],\n",
      "       [ 0.47218414,  0.52781586],\n",
      "       [ 0.31404977,  0.68595023],\n",
      "       [ 0.30340855,  0.69659145],\n",
      "       [ 0.46315334,  0.53684666],\n",
      "       [ 0.57003453,  0.42996547],\n",
      "       [ 0.56829473,  0.43170527],\n",
      "       [ 0.5737409 ,  0.4262591 ],\n",
      "       [ 0.47120169,  0.52879831],\n",
      "       [ 0.3201907 ,  0.6798093 ],\n",
      "       [ 0.52925889,  0.47074111]])]\n"
     ]
    }
   ],
   "source": [
    "print results"
   ]
  },
  {
   "cell_type": "code",
   "execution_count": 129,
   "metadata": {
    "collapsed": false
   },
   "outputs": [
    {
     "name": "stdout",
     "output_type": "stream",
     "text": [
      "[ 0.          0.01824643  0.00595452  0.02051407  0.03289063  0.00900981\n",
      "  0.00723803  0.0210133   0.01495889  0.01718184  0.10049036  0.05578745\n",
      "  0.08362761  0.07747564  0.03747743  0.07399459  0.05527739  0.10116619\n",
      "  0.10836963  0.15932621]\n"
     ]
    },
    {
     "data": {
      "image/png": "[encoded data removed]",
      "text/plain": [
       "<matplotlib.figure.Figure at 0x7f14cccd7a50>"
      ]
     },
     "metadata": {},
     "output_type": "display_data"
    }
   ],
   "source": [
    "if data_dict['classifier_model'] == 'logistic_regression':\n",
    "    print model.coef_[0]\n",
    "    print_model_weights(model.coef_[0])\n",
    "elif data_dict['classifier_model'] == 'random_forest':\n",
    "    print model.feature_importances_\n",
    "    print_model_weights(model.feature_importances_)"
   ]
  },
  {
   "cell_type": "code",
   "execution_count": 130,
   "metadata": {
    "collapsed": true
   },
   "outputs": [],
   "source": [
    "def prepare_CP1_eval_output(path, results):\n",
    "    print path, results\n",
    "    with codecs.open(path+'unseen_test_results.jl', 'w', 'utf-8') as out:\n",
    "        for i in range(0, len(results[0])):\n",
    "            answer = dict()\n",
    "            answer['cluster_id'] = str(results[0][i])\n",
    "            answer['score'] = results[1][i][1]\n",
    "            json.dump(answer, out)\n",
    "            out.write('\\n')"
   ]
  },
  {
   "cell_type": "code",
   "execution_count": 132,
   "metadata": {
    "collapsed": false
   },
   "outputs": [
    {
     "name": "stdout",
     "output_type": "stream",
     "text": [
      "columbia_faceimagestats_random_forest [[u'a99a6739634570f1fbb9de84ddbf07e23c6a0a01', u'8ba21382d6dc205fab0fc6cf8df44116a56acdd0', u'7b189426fb3f9e7f064c90a36b9535ebb7addcea', u'c9f09cb1780306b8c136662c5762c5c4389aa7d7', u'5c2d657f13a027488a9d94f709df02878c6dec62', u'ff9f213f43e0d9ab479af22617dda03bbc4f6e15', u'2eab54f516897c7a30892053cf51924e3c0c7c04', u'b4676faf0ff2d53d156b012f2e30fcf885696f56', u'137003eae9020b75371fbc2096705ca0e0d83172', u'd7e32da2f52840ef88aa1222c93dff5461cbb7e8', u'39b8888fb61cdf580a0e74f8ac02a1ad35aabb36', u'3989e43536a6100c20789671572243d2f4238642', u'2f791ad7f4ab32363a72704c1f93c44450895c6c', u'cc1d3542eba81bf4cf886a12b43becc1e0d3690a', u'30e1338ef1c4663a7f58aa844e56d5429dd458bd', u'509326c19ea93763d1fc710dceecd273b6270b7b', u'7d478f441360ca156c1949c433cf07efd443096a', u'6346c598e16d75fd72bcdb5b630ffa998fe79d8d', u'1904d428f12a6a6f3fb5ee79c13ca5ebf90c1de4', u'c50493d469c2909911ff79baffac52e2f23a1a33', u'a30057883fe42c943365dfa7444af9b1b5e6cf9b', u'4fe14fb5bc4711d3d79f4a782c643e5b3dbdaaf7', u'56949438db45216eab2db751e293c51c0cbdb9c6', u'21d19d5334457cd636b6bef5d4e52972ef0dfa0d', u'0180f95e45f37d3733c9641efb9d11226fc83419', u'5ceca7c64c00a9d689232ea6348ed33efd4c9341', u'7e30109744efb3061744237576c1599ed6237dab', u'ca45e0bc8100bf4fb6f7f06ca40504eb5dc84404', u'8ecfe209139f1a9d4256c75740fe9e7ea1f31291', u'e6502b28cb5f4d73d1042328bf09dadca7f482d5', u'30706411d250414c77a8fa6e618a07a5087a04cd', u'd1ec58d6e59fcc7dc8cb8fb5580dcc4996bd6b6f', u'bd0162c3ea804a2ee64889aa33bd1ccc7ba915ff', u'5b18371bdcf34dd853929159ff5fc37d3ef8d889', u'6c97d7f9fc79720ac67343a179b9edfcfb5ced63', u'429df829356076209dfb576b1906d98536404e09', u'1487b1e01d4e19d843d31e9cf4fa73c7bca3d73e', u'8a421d5128ff7f2e15acc3a47ce9abb51b1b020b', u'd75c94f86282a3355d92375aca5c3969845f7400', u'8e86801e3d009873466c7b2333d09f3da067ce83', u'adceceddf7647f06f5cc5d6e555dfa940cdc138a', u'ec4c8b2be0aa1b71620b3fe2200d1b2324affc2e', u'3ddc80cb50734f7844dc19e95515a1a09dfa0503', u'ee3cc04333060212834810870aea5d42e98b026b', u'84cdcf8f3f3155e66200923976a6d922c8387d2b', u'91ca05ed1cb4ab55cc002e10daf7337cf21e563c', u'b3379cd44bbc07fb49a1372e7a4e7936f14b54d4', u'710aa51b7c8d508052595a3080419b830f852649', u'de1f1f4faf7fcd4d4c8fb424211c635eaa1f60c1', u'c5f1ab051c18ce17596f37f00ec26eb334f70a68', u'60909d9cc88c2df9882d4659f89c36e70b214669', u'a16e7fc8ffdf9f6497fbbca1ba7128201a9cbb86', u'217e0468c7eaa12291a41e02b4f0eabf38c14ebe', u'764b64b81a72f0502133fe970c1bc94a3b504c2a', u'e529091bf4a603e1a3a1a02849c7f49a6b53802d', u'bbb4c38df0ce28c0e481ee271e608ef0fa06bff2', u'463cd64c3e8a12bb41282edcd0b9c890ffe69179', u'd04601fa8f63f5317a81c2c3ac0846de15854d64', u'1b311cce7eff248dc8b526c0bd2d9d89792e7076', u'428de28dc982947d5f570fb2362d557d0f57d20c', u'e83eee5a954dbd89a54d2cbe73b4ea81f1da0f18', u'826b473e788c7630b2602c3d45e795d844b8011c', u'd0c09bf712f6032372d75507120bfce1f977db7a', u'0d59c51931adfaf19d85df33948867eb2606af59', u'fb73c8c2f33f96c1346ab47ef688af1e20106b7d', u'10cddb536c76d74abc8af2bad0118b33efef0996', u'73315bad4fbe5c47c5e55f47c1644af38de66d7b', u'364b436514765db56666915f64f27f253b6016f7', u'07201eb30fffed42a5002774a2acf30e929b6e0f', u'867c2c0674a5ad9861f06ee22aaafc5f2459a22c', u'a4eaea0a9fcd23ccf929036fc235b36959f897f3', u'1ab2bf3e18eb1bb36011e7a736a80d0f7f71660c', u'68ddf2d05c794a4d7395eac63dc37e6558396081', u'14df233f87ae8091f9d9d3c3837323aca43fd485', u'ccd2412e5122d6f349316244c4738740c5cffe04', u'9c30f3bac08f163b9a358d0abc31045cf223471d', u'84a7a66611f9c3bbcbad74efe9577b5ea5e442e1', u'd3cbf2e5b160ed5f2f84a48e2c3434df06bc9fe8', u'5add154255d238a20953aee90db71ea5d4f316f2', u'de4c7ed6ce1b732b7d5f61f188557624519d8b00', u'03778bd89fb77881a3300a4888f8a6bbdf6494b2', u'd040a28055c038f3330f596611d7a545da6ba2b0', u'afd5b363d9f7ccc283e46fbb27af588e47e2928e', u'92631ee561a6f63de414c24167f8a7fc8f89950f', u'78309ff6c7eca192cb8094c23bbf7690d5bb0ae7', u'2bfaf153d0588a50859e7355896ce6755e9a6f64', u'04ba2065bf8a6abbcea760721d720678b45a0de0', u'91b66d358155a5c3a0dfadf1219fa759b3a741fb', u'a46b1bb98b2eda196a4edacacf411576b74fb61d', u'd300f62791384782ae75dd234d4ea84448762d15', u'757e36d7867f628b1c6ebb17b33df5dd3674c595', u'23dfb4578fd88d9661215bb6e1b5063f60826868', u'ce3ce5b5b55580424e2f008247309c9e5104327c', u'f8a58e64a61ab00d999c205cf63e4310a3d8f5bd', u'f526e6b3f5ac8b6bcdc56ca79491cdb3f37df1b5', u'537cca294f96ca510b134e69aa8c4c1fccd7722d', u'c28e9e4ba5d18ea84e77d75e4c457d4de4bf765a', u'c6170ac0f46d1d9adf559ad3a2fd2c3f92711e2b', u'edfe41a52c0fc18f7de7aaa11cfbfb8af02116fc', u'4de79fc40dd8249d3e996cb2f288a98774143c2c', u'c1671399fc5fedcaf20d48f6dd3adb9c819304fa', u'f9034404dfadebe763f6ce048c1a9bbdeccb8b59', u'ce3fb900eb7ca45e4a1dab30624b822fa40418d1', u'376a717c40a45d6db74f5b4c60bc607346661868', u'cf983138fd7ad07867f01a2439af23b03c29589c', u'd758ce5ba722d3fddda88a3a72852df84a3578ea', u'27a2450c16c2380192d93087405f981ef4841058', u'c589fe6b7ee09585253dd669887d6cef1ee0100e', u'd9948542c966fc4cae1f13249f5c5ff88dd34883', u'd4e9556e9ea9a6e85fa0a0717023379d377570e5', u'45a5fb6230119139230250f19c29b17a0b25e529', u'79e1e3a24194de81707cbdfb4dba15505f356689', u'fa91c6426380c478a2d867021858c3b11a870b20', u'29dd516a2c5c6230208e31ed664ca35b89f597a1', u'908fa17e0f0f7b2f8c74402007dab7c5cfa5feea', u'72139b3ab03d16c3de2078296e3a57bdcadaf86e', u'99aa37c3a01d0947939a6f09f6dcf737df83af00', u'e0a43a3a48ce3be73f208e166b16f9f649a46218', u'439909717b559b69b3f56f4bc65542741e5a00e5', u'e9b443bb11d426dbfbe4de2a29d26a78220828a0', u'47cb8a8f0fa7e73c1e0d7011aa1ecb16a9468922', u'2abb648ef094058960e74bab3d438ac613b8a38e', u'21a481c408152dc0436c432ba3d614e4341199a5', u'bdc8bbab55339be5dbc2b051bf2183dcaafe5f52', u'cf50e7e83373670e6a4e4254bd9e7d756bcdc4c7', u'a17fd5ced8db4083b37ab8403c26f83be2a4a05f', u'7b1659324a197f9c9ed17214ea88ebb4f26982e9', u'50188d032b43bb9632691e9d0808e7508f34d6af', u'f5bbf042be59c09f726c298e4f45806ff14893c7', u'7d44c773c4e497bb21816fa9ed18e1c9dd4207b7'], array([[ 1.        ,  0.        ],\n",
      "       [ 0.9       ,  0.1       ],\n",
      "       [ 1.        ,  0.        ],\n",
      "       [ 0.8       ,  0.2       ],\n",
      "       [ 1.        ,  0.        ],\n",
      "       [ 0.9       ,  0.1       ],\n",
      "       [ 0.5       ,  0.5       ],\n",
      "       [ 0.6       ,  0.4       ],\n",
      "       [ 1.        ,  0.        ],\n",
      "       [ 0.9       ,  0.1       ],\n",
      "       [ 0.7       ,  0.3       ],\n",
      "       [ 0.22989834,  0.77010166],\n",
      "       [ 0.84549689,  0.15450311],\n",
      "       [ 0.84679487,  0.15320513],\n",
      "       [ 1.        ,  0.        ],\n",
      "       [ 1.        ,  0.        ],\n",
      "       [ 0.8       ,  0.2       ],\n",
      "       [ 1.        ,  0.        ],\n",
      "       [ 0.6       ,  0.4       ],\n",
      "       [ 0.5       ,  0.5       ],\n",
      "       [ 0.6       ,  0.4       ],\n",
      "       [ 0.6       ,  0.4       ],\n",
      "       [ 0.22989834,  0.77010166],\n",
      "       [ 0.9       ,  0.1       ],\n",
      "       [ 0.8       ,  0.2       ],\n",
      "       [ 0.9       ,  0.1       ],\n",
      "       [ 1.        ,  0.        ],\n",
      "       [ 0.7       ,  0.3       ],\n",
      "       [ 1.        ,  0.        ],\n",
      "       [ 1.        ,  0.        ],\n",
      "       [ 0.7       ,  0.3       ],\n",
      "       [ 1.        ,  0.        ],\n",
      "       [ 0.9       ,  0.1       ],\n",
      "       [ 0.9       ,  0.1       ],\n",
      "       [ 1.        ,  0.        ],\n",
      "       [ 0.8       ,  0.2       ],\n",
      "       [ 0.9       ,  0.1       ],\n",
      "       [ 0.7       ,  0.3       ],\n",
      "       [ 1.        ,  0.        ],\n",
      "       [ 1.        ,  0.        ],\n",
      "       [ 0.9       ,  0.1       ],\n",
      "       [ 0.8       ,  0.2       ],\n",
      "       [ 0.9       ,  0.1       ],\n",
      "       [ 0.9       ,  0.1       ],\n",
      "       [ 1.        ,  0.        ],\n",
      "       [ 0.9       ,  0.1       ],\n",
      "       [ 0.9       ,  0.1       ],\n",
      "       [ 1.        ,  0.        ],\n",
      "       [ 0.9       ,  0.1       ],\n",
      "       [ 1.        ,  0.        ],\n",
      "       [ 1.        ,  0.        ],\n",
      "       [ 1.        ,  0.        ],\n",
      "       [ 0.9       ,  0.1       ],\n",
      "       [ 1.        ,  0.        ],\n",
      "       [ 1.        ,  0.        ],\n",
      "       [ 1.        ,  0.        ],\n",
      "       [ 0.9       ,  0.1       ],\n",
      "       [ 0.9       ,  0.1       ],\n",
      "       [ 0.9       ,  0.1       ],\n",
      "       [ 0.9       ,  0.1       ],\n",
      "       [ 1.        ,  0.        ],\n",
      "       [ 0.8       ,  0.2       ],\n",
      "       [ 1.        ,  0.        ],\n",
      "       [ 0.38689415,  0.61310585],\n",
      "       [ 0.9       ,  0.1       ],\n",
      "       [ 1.        ,  0.        ],\n",
      "       [ 1.        ,  0.        ],\n",
      "       [ 1.        ,  0.        ],\n",
      "       [ 0.9       ,  0.1       ],\n",
      "       [ 1.        ,  0.        ],\n",
      "       [ 0.7       ,  0.3       ],\n",
      "       [ 0.9       ,  0.1       ],\n",
      "       [ 1.        ,  0.        ],\n",
      "       [ 1.        ,  0.        ],\n",
      "       [ 0.8       ,  0.2       ],\n",
      "       [ 1.        ,  0.        ],\n",
      "       [ 0.4       ,  0.6       ],\n",
      "       [ 0.9       ,  0.1       ],\n",
      "       [ 0.8       ,  0.2       ],\n",
      "       [ 0.7       ,  0.3       ],\n",
      "       [ 1.        ,  0.        ],\n",
      "       [ 0.08684274,  0.91315726],\n",
      "       [ 1.        ,  0.        ],\n",
      "       [ 0.9       ,  0.1       ],\n",
      "       [ 0.8       ,  0.2       ],\n",
      "       [ 1.        ,  0.        ],\n",
      "       [ 0.9       ,  0.1       ],\n",
      "       [ 1.        ,  0.        ],\n",
      "       [ 0.8       ,  0.2       ],\n",
      "       [ 0.9       ,  0.1       ],\n",
      "       [ 0.20068107,  0.79931893],\n",
      "       [ 1.        ,  0.        ],\n",
      "       [ 0.9       ,  0.1       ],\n",
      "       [ 0.9       ,  0.1       ],\n",
      "       [ 0.08684274,  0.91315726],\n",
      "       [ 1.        ,  0.        ],\n",
      "       [ 0.8       ,  0.2       ],\n",
      "       [ 1.        ,  0.        ],\n",
      "       [ 1.        ,  0.        ],\n",
      "       [ 1.        ,  0.        ],\n",
      "       [ 1.        ,  0.        ],\n",
      "       [ 1.        ,  0.        ],\n",
      "       [ 0.9       ,  0.1       ],\n",
      "       [ 0.22989834,  0.77010166],\n",
      "       [ 0.8       ,  0.2       ],\n",
      "       [ 0.9       ,  0.1       ],\n",
      "       [ 1.        ,  0.        ],\n",
      "       [ 0.8       ,  0.2       ],\n",
      "       [ 0.8       ,  0.2       ],\n",
      "       [ 1.        ,  0.        ],\n",
      "       [ 1.        ,  0.        ],\n",
      "       [ 0.8       ,  0.2       ],\n",
      "       [ 1.        ,  0.        ],\n",
      "       [ 0.8       ,  0.2       ],\n",
      "       [ 1.        ,  0.        ],\n",
      "       [ 0.        ,  1.        ],\n",
      "       [ 0.84679487,  0.15320513],\n",
      "       [ 0.9       ,  0.1       ],\n",
      "       [ 0.6       ,  0.4       ],\n",
      "       [ 0.9       ,  0.1       ],\n",
      "       [ 0.9       ,  0.1       ],\n",
      "       [ 0.5       ,  0.5       ],\n",
      "       [ 1.        ,  0.        ],\n",
      "       [ 0.8       ,  0.2       ],\n",
      "       [ 1.        ,  0.        ],\n",
      "       [ 0.8       ,  0.2       ],\n",
      "       [ 1.        ,  0.        ],\n",
      "       [ 0.7       ,  0.3       ],\n",
      "       [ 1.        ,  0.        ],\n",
      "       [ 1.        ,  0.        ]])]\n"
     ]
    }
   ],
   "source": [
    "prepare_CP1_eval_output('columbia_faceimagestats_'+data_dict['classifier_model'], results)\n",
    "# we should also save the model that generated these results\n",
    "import pickle\n",
    "pickle.dump(model,open('columbia_faceimagestats_'+data_dict['classifier_model']+'.pkl','wb'))"
   ]
  },
  {
   "cell_type": "code",
   "execution_count": null,
   "metadata": {
    "collapsed": true
   },
   "outputs": [],
   "source": []
  }
 ],
 "metadata": {
  "kernelspec": {
   "display_name": "Python 2",
   "language": "python",
   "name": "python2"
  },
  "language_info": {
   "codemirror_mode": {
    "name": "ipython",
    "version": 2
   },
   "file_extension": ".py",
   "mimetype": "text/x-python",
   "name": "python",
   "nbconvert_exporter": "python",
   "pygments_lexer": "ipython2",
   "version": "2.7.10"
  }
 },
 "nbformat": 4,
 "nbformat_minor": 1
}
